{
 "cells": [
  {
   "cell_type": "markdown",
   "metadata": {},
   "source": [
    "## List\n",
    "\n",
    "* A collection of items in a particular order.\n",
    "* Can include strings, floats, intergers and any other data types including a list.\n",
    "* You can add anything in a list, and the items in the list dont have to be related in any particular way.\n",
    "* Use square brackets ```([])``` to indicate a list and individual items in the list are separated by commas.\n",
    "\n",
    "**syntax**:``` [item_1, item_2, item_3] ```"
   ]
  },
  {
   "cell_type": "code",
   "execution_count": 1,
   "metadata": {},
   "outputs": [
    {
     "name": "stdout",
     "output_type": "stream",
     "text": [
      "['Mango', 'Banana', 'Orange', 'Apple']\n"
     ]
    }
   ],
   "source": [
    "# Example\n",
    "fruits = [\"Mango\", \"Banana\", \"Orange\",\"Apple\"]\n",
    "print(fruits)"
   ]
  },
  {
   "cell_type": "code",
   "execution_count": 2,
   "metadata": {},
   "outputs": [
    {
     "data": {
      "text/plain": [
       "list"
      ]
     },
     "execution_count": 2,
     "metadata": {},
     "output_type": "execute_result"
    }
   ],
   "source": [
    "type(fruits)"
   ]
  },
  {
   "cell_type": "code",
   "execution_count": 3,
   "metadata": {},
   "outputs": [
    {
     "name": "stdout",
     "output_type": "stream",
     "text": [
      "[254789450382, 254772909081, 254790089009]\n"
     ]
    }
   ],
   "source": [
    "# Example 2\n",
    "phone_no = [254789450382, 254772909081, 254790089009]\n",
    "print(phone_no)"
   ]
  },
  {
   "cell_type": "markdown",
   "metadata": {},
   "source": [
    "### Accessing Item in a list\n",
    "\n",
    "* Lists are ordered collections, i.e. you can access individual items in a list by telling python the position of the item.\n",
    "* The position of an item in a list is refered to as *index*\n",
    "* Syntax to access items in a list:\n",
    "```list_name[index]```"
   ]
  },
  {
   "cell_type": "code",
   "execution_count": 4,
   "metadata": {},
   "outputs": [
    {
     "name": "stdout",
     "output_type": "stream",
     "text": [
      "['Mango', 'Banana', 'Orange', 'Apple']\n"
     ]
    }
   ],
   "source": [
    "# Using fruit list\n",
    "print(fruits)"
   ]
  },
  {
   "cell_type": "code",
   "execution_count": 5,
   "metadata": {},
   "outputs": [
    {
     "name": "stdout",
     "output_type": "stream",
     "text": [
      "Banana\n"
     ]
    }
   ],
   "source": [
    "# access banana\n",
    "print(fruits[1])"
   ]
  },
  {
   "cell_type": "markdown",
   "metadata": {},
   "source": [
    "* Index positions start at **0**, not ~~1~~"
   ]
  },
  {
   "cell_type": "code",
   "execution_count": 6,
   "metadata": {},
   "outputs": [
    {
     "name": "stdout",
     "output_type": "stream",
     "text": [
      "APPLE\n"
     ]
    }
   ],
   "source": [
    "# change case\n",
    "print(fruits[3].upper())"
   ]
  },
  {
   "cell_type": "code",
   "execution_count": 8,
   "metadata": {},
   "outputs": [
    {
     "name": "stdout",
     "output_type": "stream",
     "text": [
      "Apple\n",
      "Orange\n"
     ]
    }
   ],
   "source": [
    "# Using negative indexing\n",
    "# starts -1\n",
    "print(fruits[-1])\n",
    "print(fruits[-2])"
   ]
  },
  {
   "cell_type": "code",
   "execution_count": 9,
   "metadata": {},
   "outputs": [
    {
     "name": "stdout",
     "output_type": "stream",
     "text": [
      "John likes Apple, especially the grean ones.\n"
     ]
    }
   ],
   "source": [
    "# Using individual items in a list\n",
    "message = f\"John likes {fruits[-1]}, especially the grean ones.\"\n",
    "\n",
    "print(message)"
   ]
  },
  {
   "cell_type": "code",
   "execution_count": 13,
   "metadata": {},
   "outputs": [
    {
     "name": "stdout",
     "output_type": "stream",
     "text": [
      "John can eat both a Mango and an Orange.\n"
     ]
    }
   ],
   "source": [
    "message_1 = f\"John can eat both a {fruits[0]} and an {fruits[2]}.\"\n",
    "\n",
    "print(message_1)"
   ]
  },
  {
   "cell_type": "markdown",
   "metadata": {},
   "source": [
    "### Modifying, Adding, and Removing Elements in a List\n",
    "* Lists are dynamic, i.e., most of the lists you create, you add, change, remove items from the list and remove the entire list."
   ]
  },
  {
   "cell_type": "code",
   "execution_count": 14,
   "metadata": {},
   "outputs": [
    {
     "name": "stdout",
     "output_type": "stream",
     "text": [
      "['Supreme', 'High Coat']\n"
     ]
    }
   ],
   "source": [
    "# Example list\n",
    "courts = [\"Supreme\", \"High Coat\"]\n",
    "\n",
    "print(courts)"
   ]
  },
  {
   "cell_type": "code",
   "execution_count": 15,
   "metadata": {},
   "outputs": [
    {
     "name": "stdout",
     "output_type": "stream",
     "text": [
      "['Supreme', 'High Court']\n"
     ]
    }
   ],
   "source": [
    "# Modifying items in a list\n",
    "courts[1] = \"High Court\"\n",
    "\n",
    "print(courts)"
   ]
  },
  {
   "cell_type": "code",
   "execution_count": 16,
   "metadata": {},
   "outputs": [
    {
     "name": "stdout",
     "output_type": "stream",
     "text": [
      "['Supreme', 'High Court', 'Magistrate Court']\n"
     ]
    }
   ],
   "source": [
    "# Adding items in a list - introducing new items to the list\n",
    "# 1. Adding elements at the end of the list .append(item)\n",
    "courts.append(\"Magistrate Court\")\n",
    "\n",
    "print(courts)"
   ]
  },
  {
   "cell_type": "code",
   "execution_count": 17,
   "metadata": {},
   "outputs": [
    {
     "name": "stdout",
     "output_type": "stream",
     "text": [
      "['Mango', 'Banana', 'Orange', 'Apple', 'Paw Paw']\n"
     ]
    }
   ],
   "source": [
    "# example 2 ussing append\n",
    "fruits.append(\"Paw Paw\")\n",
    "\n",
    "print(fruits)"
   ]
  },
  {
   "cell_type": "code",
   "execution_count": 20,
   "metadata": {},
   "outputs": [
    {
     "name": "stdout",
     "output_type": "stream",
     "text": [
      "['Supreme', 'Court of Appeal', 'Court of Appeal', 'High Court', 'Magistrate Court']\n"
     ]
    }
   ],
   "source": [
    "# 2. Insert an item into a list at specific position\n",
    "#syntax .insert(index, item)\n",
    "courts.insert(1, \"Court of Appeal\")\n",
    "\n",
    "print(courts)"
   ]
  },
  {
   "cell_type": "code",
   "execution_count": 22,
   "metadata": {},
   "outputs": [
    {
     "data": {
      "text/plain": [
       "['Mango', 'Banana', 'Orange', 'Apple', 'Paw Paw']"
      ]
     },
     "execution_count": 22,
     "metadata": {},
     "output_type": "execute_result"
    }
   ],
   "source": [
    "fruits"
   ]
  },
  {
   "cell_type": "code",
   "execution_count": 23,
   "metadata": {},
   "outputs": [
    {
     "name": "stdout",
     "output_type": "stream",
     "text": [
      "['Mango', 'Banana', 'Orange', 'Apple']\n"
     ]
    }
   ],
   "source": [
    "# Removing Items in  a list\n",
    "# 1. Using .pop() to remove an item at the end of a list\n",
    "fruits.pop()\n",
    "print(fruits)"
   ]
  },
  {
   "cell_type": "code",
   "execution_count": 24,
   "metadata": {},
   "outputs": [
    {
     "name": "stdout",
     "output_type": "stream",
     "text": [
      "['Banana', 'Orange', 'Apple']\n"
     ]
    }
   ],
   "source": [
    "# 2. using .pop(index) to remove an item at a particular position\n",
    "#to remove mango\n",
    "fruits.pop(0)\n",
    "\n",
    "print(fruits)"
   ]
  },
  {
   "cell_type": "code",
   "execution_count": 25,
   "metadata": {},
   "outputs": [
    {
     "name": "stdout",
     "output_type": "stream",
     "text": [
      "['Banana', 'Apple']\n"
     ]
    }
   ],
   "source": [
    "# 3. Use .remove(item_value) to remove item by value\n",
    "fruits.remove(\"Orange\")\n",
    "\n",
    "print(fruits)"
   ]
  },
  {
   "cell_type": "code",
   "execution_count": 26,
   "metadata": {},
   "outputs": [
    {
     "name": "stdout",
     "output_type": "stream",
     "text": [
      "['Banana']\n"
     ]
    }
   ],
   "source": [
    "# Using del statement to remove item in a list\n",
    "# syntax del list_name[index]\n",
    "del fruits[1]\n",
    "\n",
    "print(fruits)"
   ]
  },
  {
   "cell_type": "code",
   "execution_count": 27,
   "metadata": {},
   "outputs": [
    {
     "name": "stdout",
     "output_type": "stream",
     "text": [
      "['Supreme', 'Court of Appeal', 'High Court', 'Magistrate Court']\n"
     ]
    }
   ],
   "source": [
    "# Example 2\n",
    "del courts[2]\n",
    "\n",
    "print(courts)"
   ]
  },
  {
   "cell_type": "code",
   "execution_count": 2,
   "metadata": {},
   "outputs": [
    {
     "name": "stdout",
     "output_type": "stream",
     "text": [
      "['Mango', ['Orange', 'Pawpaw'], 'Guava']\n"
     ]
    }
   ],
   "source": [
    "#list inside a list (nested list)\n",
    "\n",
    "L = [\"Mango\", [\"Orange\", \"Pawpaw\"], \"Guava\"]\n",
    "\n",
    "print(L)"
   ]
  },
  {
   "cell_type": "code",
   "execution_count": 9,
   "metadata": {},
   "outputs": [
    {
     "name": "stdout",
     "output_type": "stream",
     "text": [
      "ORANGE\n"
     ]
    }
   ],
   "source": [
    "#Accessing a list inside a list and modifying\n",
    "\n",
    "print(L[1][0].upper())\n"
   ]
  },
  {
   "cell_type": "code",
   "execution_count": 16,
   "metadata": {},
   "outputs": [],
   "source": [
    "noise_makers = [\"John\", \"Anto\", \"sam\",\"Tom\",\"Tracy\"]"
   ]
  },
  {
   "cell_type": "code",
   "execution_count": 17,
   "metadata": {},
   "outputs": [
    {
     "name": "stdout",
     "output_type": "stream",
     "text": [
      "Present\n"
     ]
    }
   ],
   "source": [
    "# Checking item in a list using in\n",
    "\n",
    "if \"John\" in noise_makers:\n",
    "    print(\"Present\")"
   ]
  },
  {
   "cell_type": "code",
   "execution_count": 19,
   "metadata": {},
   "outputs": [
    {
     "name": "stdout",
     "output_type": "stream",
     "text": [
      "Present\n",
      "['John', 'Anto', 'sam', 'Tom', 'Tracy', 'Linda']\n"
     ]
    }
   ],
   "source": [
    "# Adding items not in list\n",
    "\n",
    "if \"Linda\" in noise_makers:\n",
    "    print(\"Present\")\n",
    "else:\n",
    "    noise_makers.append(\"Linda\")\n",
    "    \n",
    "print(noise_makers)"
   ]
  },
  {
   "cell_type": "code",
   "execution_count": 22,
   "metadata": {},
   "outputs": [
    {
     "name": "stdout",
     "output_type": "stream",
     "text": [
      "Unfair list\n"
     ]
    }
   ],
   "source": [
    "# checking items not in list (not in)\n",
    "\n",
    "if \"Boye\" not in noise_makers:\n",
    "    print(\"Unfair list\")\n",
    "else:\n",
    "    print(\"Present\")\n"
   ]
  },
  {
   "cell_type": "code",
   "execution_count": 25,
   "metadata": {},
   "outputs": [
    {
     "name": "stdout",
     "output_type": "stream",
     "text": [
      "['Boye', 'John', 'Anto', 'sam', 'Tom', 'Tracy', 'Linda']\n"
     ]
    }
   ],
   "source": [
    "# Inserting into a list using if condition\n",
    "if \"Boye\" not in noise_makers:\n",
    "    noise_makers.insert(0, \"Boye\")   \n",
    "print(noise_makers)"
   ]
  },
  {
   "cell_type": "markdown",
   "metadata": {},
   "source": [
    "## Functions in list\n",
    "\n",
    "1. Size of a list\n",
    "* syntax: len(list_name)\n",
    "2. Sorting a list\n",
    "* syntax: **list_name.sort()** ascending; **list_name.sort(reverse = True)** descending"
   ]
  },
  {
   "cell_type": "code",
   "execution_count": 27,
   "metadata": {},
   "outputs": [
    {
     "data": {
      "text/plain": [
       "7"
      ]
     },
     "execution_count": 27,
     "metadata": {},
     "output_type": "execute_result"
    }
   ],
   "source": [
    "# example\n",
    "len(noise_makers)"
   ]
  },
  {
   "cell_type": "code",
   "execution_count": 31,
   "metadata": {},
   "outputs": [],
   "source": [
    "# sort to organize \n",
    "numbers = [1,2,3,4,5,6,7,8,9,10]"
   ]
  },
  {
   "cell_type": "code",
   "execution_count": null,
   "metadata": {},
   "outputs": [],
   "source": []
  },
  {
   "cell_type": "code",
   "execution_count": null,
   "metadata": {},
   "outputs": [],
   "source": []
  }
 ],
 "metadata": {
  "kernelspec": {
   "display_name": "Python 3",
   "language": "python",
   "name": "python3"
  },
  "language_info": {
   "codemirror_mode": {
    "name": "ipython",
    "version": 3
   },
   "file_extension": ".py",
   "mimetype": "text/x-python",
   "name": "python",
   "nbconvert_exporter": "python",
   "pygments_lexer": "ipython3",
   "version": "3.8.5"
  }
 },
 "nbformat": 4,
 "nbformat_minor": 4
}
