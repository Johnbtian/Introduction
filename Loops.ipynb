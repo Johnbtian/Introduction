{
 "cells": [
  {
   "cell_type": "markdown",
   "metadata": {},
   "source": [
    "## Objectives\n",
    "\n",
    "* Understand the concept\n",
    "* Demonstrate the types of Loops\n",
    "* Discuss the syntax\n",
    "* Understand the concept of Loop control\n",
    "* Discuss Iteration\n",
    "* Discus Nested Loops\n",
    "* Enhancing Loop Functionality"
   ]
  },
  {
   "cell_type": "markdown",
   "metadata": {},
   "source": [
    "## Introduction to Repetition\n",
    "\n",
    "* Repetition is a fundamental concept in programming, that involves performing the same set of instructions multiple times.\n",
    "* Used to automate tasks that require repeated execution of codes. Example *mpesa menu*\n",
    "* Loops are a key mechanism in programming to achieve this repetition effeciently."
   ]
  },
  {
   "cell_type": "code",
   "execution_count": 1,
   "metadata": {},
   "outputs": [
    {
     "name": "stdout",
     "output_type": "stream",
     "text": [
      "1\n",
      "2\n",
      "3\n"
     ]
    }
   ],
   "source": [
    "# Consider a scenario counting 1 to 10\n",
    "print(1)\n",
    "print(2)\n",
    "print(3)"
   ]
  },
  {
   "cell_type": "code",
   "execution_count": 2,
   "metadata": {},
   "outputs": [
    {
     "name": "stdout",
     "output_type": "stream",
     "text": [
      "1\n",
      "2\n",
      "3\n",
      "4\n",
      "5\n",
      "6\n",
      "7\n",
      "8\n",
      "9\n"
     ]
    }
   ],
   "source": [
    "# programming loops automate repetitive tasks\n",
    "for num in range(1,10):\n",
    "    print(num)"
   ]
  },
  {
   "cell_type": "code",
   "execution_count": 6,
   "metadata": {},
   "outputs": [
    {
     "name": "stdout",
     "output_type": "stream",
     "text": [
      "Count: 0\n",
      "Count: 1\n",
      "Count: 2\n",
      "Count: 3\n",
      "Count: 4\n"
     ]
    }
   ],
   "source": [
    "# Use while loops\n",
    "count = 0\n",
    "    \n",
    "while count < 5:\n",
    "    print(\"Count:\",count)\n",
    "    count += 1\n",
    "    "
   ]
  },
  {
   "cell_type": "markdown",
   "metadata": {},
   "source": [
    "## What is a Loop?\n",
    "\n",
    "* A loop is a programming construct that enables the repeated execution of a specific block of code(*indented code*).\n",
    "* Used when you want to automate task that needs to performed multiple times.\n",
    "* They control the flow of the program, allowing certain code to be executed repeatedly until a **condition is met**"
   ]
  },
  {
   "cell_type": "code",
   "execution_count": 7,
   "metadata": {},
   "outputs": [
    {
     "name": "stdout",
     "output_type": "stream",
     "text": [
      "55\n"
     ]
    }
   ],
   "source": [
    "# sum the numbers between 1 and 10\n",
    "sum = 1+2+3+4+5+6+7+8+9+10\n",
    "\n",
    "print(sum)"
   ]
  },
  {
   "cell_type": "code",
   "execution_count": 9,
   "metadata": {},
   "outputs": [
    {
     "name": "stdout",
     "output_type": "stream",
     "text": [
      "55\n"
     ]
    }
   ],
   "source": [
    "# use a loop to find the sum of numbers between 1 and 10\n",
    "# declare a variable to store the sum\n",
    "\n",
    "sum = 0\n",
    "# creating a for loop\n",
    "for num in range(1,11):#range(1,11)>> all the numbers betn 1 and 11 excluding 11.\n",
    "    sum += num\n",
    "    \n",
    "print(sum)"
   ]
  },
  {
   "cell_type": "markdown",
   "metadata": {},
   "source": [
    "## Control Flow\n",
    "\n",
    "* Loops influence the order in which instructions are executed.\n",
    "* When a loop is encountered, the program enters a loop body, executing the contained code.\n",
    "* Syntax\n",
    "\n",
    "```\n",
    "loop made of a condition:\n",
    "      contained block of\n",
    "      code to be executed\n",
    "      condition is True/met\n",
    "Program exits the loop\n",
    "```\n",
    "* At each iteration, the program checks the loop condition. If the condition remains **True** the loop body is executed again.\n",
    "* If it becomes **False**, the program exits the loop.\n",
    "* **Iteration** - Refers to each cycle or repetition of a loop."
   ]
  },
  {
   "cell_type": "code",
   "execution_count": 12,
   "metadata": {},
   "outputs": [
    {
     "name": "stdout",
     "output_type": "stream",
     "text": [
      "Countdown value: 5!!\n",
      "Countdown value: 4!!\n",
      "Countdown value: 3!!\n",
      "Countdown value: 2!!\n",
      "Countdown value: 1!!\n",
      "Exit loop and program continues!!\n"
     ]
    }
   ],
   "source": [
    "# Example\n",
    "# demonstration of control flow\n",
    "# assume the print statement below are blocks of code\n",
    "\n",
    "#print(\"This is an example of a loop\")\n",
    "#print(\"We are dempnstrating while loops\")\n",
    "\n",
    "#loop to simulate a count down\n",
    "countdown = 5\n",
    "\n",
    "#our program meets a loop block >> while loop\n",
    "while (countdown > 0):\n",
    "    # code to execute when condition is true\n",
    "    print(f\"Countdown value: {countdown}!!\")\n",
    "    countdown -= 1\n",
    "    \n",
    "    # program exits the loop when the condition is no longer met\n",
    "print(\"Exit loop and program continues!!\")"
   ]
  },
  {
   "cell_type": "markdown",
   "metadata": {},
   "source": [
    "## Types of loops\n",
    "\n",
    "* There are two main types of loops in python:\n",
    "```for```and ```while```\n",
    "* Type of loop you choose depends on whether you know the number of iterations in advance or if depends on a condition.\n",
    "* When you know the number of iterations, use _while loop_, otherwise use a _for loop_"
   ]
  },
  {
   "cell_type": "markdown",
   "metadata": {},
   "source": [
    "### For Loop\n",
    "\n",
    "* Basic syntax\n",
    "\n",
    "```\n",
    "for item in sequence:\n",
    "    # code to be executed for each item\n",
    "    # ...\n",
    "```\n",
    "\n",
    "* `for`: Keyword that signals the start of the loop.\n",
    "* `item`: Is a variable that represents the current item in the aquence during each iteration.The loop will automatically iterate through the entire \n",
    "* `in` : A keyword used to specify that you are iterating in a given sequence.\n",
    "* `sequence` : Collection of items that you want to iterate over (e.g list, string, tuple, or range).\n",
    "* `:` : signifies the start of the indented code block to be executed for each iteration of the loop.\n",
    "\n",
    "Inside the indented code block, you place the operations/actions that you want to perform on each item in the sequence. The loop will automatically iterate through the entire sequence, executing the code block for each item."
   ]
  },
  {
   "cell_type": "code",
   "execution_count": 2,
   "metadata": {},
   "outputs": [
    {
     "name": "stdout",
     "output_type": "stream",
     "text": [
      "Kisumu\n",
      "Kisii\n",
      "Nyamira\n",
      "Homa Bay\n",
      "Migori\n"
     ]
    }
   ],
   "source": [
    "# code demonstration\n",
    "# list of High courts in Kenya\n",
    "high_courts = [\"Kisumu\", \"Kisii\",'Nyamira','Homa Bay', 'Migori','Kitale']\n",
    "\n",
    "for court in high_courts:\n",
    "    # code block to execute each item\n",
    "    print(court)\n",
    "    if (court == 'Migori'):\n",
    "        break;"
   ]
  },
  {
   "cell_type": "markdown",
   "metadata": {},
   "source": [
    "### Sequence Types\n",
    "\n",
    "* Referes to data structures that hold a colection of elements, where each element is accessible by an index or a key.\n",
    "* These elements are ordered, meaning they have a specific position within the sequence."
   ]
  },
  {
   "cell_type": "code",
   "execution_count": 3,
   "metadata": {},
   "outputs": [
    {
     "name": "stdout",
     "output_type": "stream",
     "text": [
      "['Kisumu', 'Kisii', 'Nyamira', 'Homa Bay', 'Migori', 'Kitale']\n",
      "Homa Bay\n"
     ]
    }
   ],
   "source": [
    "# list\n",
    "print(high_courts)\n",
    "\n",
    "# Accessing elements/items in a list\n",
    "print(high_courts[3])"
   ]
  },
  {
   "cell_type": "code",
   "execution_count": 6,
   "metadata": {},
   "outputs": [
    {
     "name": "stdout",
     "output_type": "stream",
     "text": [
      "kisumu\n",
      "kisii\n",
      "nyamira\n",
      "homa bay\n",
      "migori\n",
      "kitale\n"
     ]
    }
   ],
   "source": [
    "# looping through the list court\n",
    "for court in high_courts:\n",
    "    # code to execute\n",
    "    lower_case = court.lower()\n",
    "    print(lower_case)"
   ]
  },
  {
   "cell_type": "markdown",
   "metadata": {},
   "source": [
    "**A tuple** : Similar to lists, but they are immutable, meaning: their contents cannot be changed after creation.\n",
    "* **Syntax** :\n",
    "```tuple_name = (item1,item2)```\n"
   ]
  },
  {
   "cell_type": "code",
   "execution_count": 7,
   "metadata": {},
   "outputs": [
    {
     "name": "stdout",
     "output_type": "stream",
     "text": [
      "('Kocheli', 'solo', 'Nyambane', 'Yusuf')\n",
      "Kocheli\n"
     ]
    }
   ],
   "source": [
    "noise_makers = (\"Kocheli\",\"solo\",'Nyambane',\"Yusuf\")\n",
    "\n",
    "print(noise_makers)\n",
    "\n",
    "# accessing items in a tuple\n",
    "print(noise_makers[0])"
   ]
  },
  {
   "cell_type": "code",
   "execution_count": 8,
   "metadata": {},
   "outputs": [
    {
     "name": "stdout",
     "output_type": "stream",
     "text": [
      "Kocheli\n",
      "solo\n",
      "Nyambane\n",
      "Yusuf\n"
     ]
    }
   ],
   "source": [
    "# loop trough a tuple\n",
    "for noise_maker in noise_makers:\n",
    "    print(noise_maker)"
   ]
  },
  {
   "cell_type": "code",
   "execution_count": null,
   "metadata": {},
   "outputs": [],
   "source": []
  }
 ],
 "metadata": {
  "kernelspec": {
   "display_name": "Python 3",
   "language": "python",
   "name": "python3"
  },
  "language_info": {
   "codemirror_mode": {
    "name": "ipython",
    "version": 3
   },
   "file_extension": ".py",
   "mimetype": "text/x-python",
   "name": "python",
   "nbconvert_exporter": "python",
   "pygments_lexer": "ipython3",
   "version": "3.8.5"
  }
 },
 "nbformat": 4,
 "nbformat_minor": 4
}
