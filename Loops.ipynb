{
 "cells": [
  {
   "cell_type": "markdown",
   "metadata": {},
   "source": [
    "## Objectives\n",
    "\n",
    "* Understand the concept\n",
    "* Demonstrate the types of Loops\n",
    "* Discuss the syntax\n",
    "* Understand the concept of Loop control\n",
    "* Discuss Iteration\n",
    "* Discus Nested Loops\n",
    "* Enhancing Loop Functionality"
   ]
  },
  {
   "cell_type": "markdown",
   "metadata": {},
   "source": [
    "## Introduction to Repetition\n",
    "\n",
    "* Repetition is a fundamental concept in programming, that involves performing the same set of instructions multiple times.\n",
    "* Used to automate tasks that require repeated execution of codes. Example *mpesa menu*\n",
    "* Loops are a key mechanism in programming to achieve this repetition effeciently."
   ]
  },
  {
   "cell_type": "code",
   "execution_count": 1,
   "metadata": {},
   "outputs": [
    {
     "name": "stdout",
     "output_type": "stream",
     "text": [
      "1\n",
      "2\n",
      "3\n"
     ]
    }
   ],
   "source": [
    "# Consider a scenario counting 1 to 10\n",
    "print(1)\n",
    "print(2)\n",
    "print(3)"
   ]
  },
  {
   "cell_type": "code",
   "execution_count": 2,
   "metadata": {},
   "outputs": [
    {
     "name": "stdout",
     "output_type": "stream",
     "text": [
      "1\n",
      "2\n",
      "3\n",
      "4\n",
      "5\n",
      "6\n",
      "7\n",
      "8\n",
      "9\n"
     ]
    }
   ],
   "source": [
    "# programming loops automate repetitive tasks\n",
    "for num in range(1,10):\n",
    "    print(num)"
   ]
  },
  {
   "cell_type": "code",
   "execution_count": 6,
   "metadata": {},
   "outputs": [
    {
     "name": "stdout",
     "output_type": "stream",
     "text": [
      "Count: 0\n",
      "Count: 1\n",
      "Count: 2\n",
      "Count: 3\n",
      "Count: 4\n"
     ]
    }
   ],
   "source": [
    "# Use while loops\n",
    "count = 0\n",
    "    \n",
    "while count < 5:\n",
    "    print(\"Count:\",count)\n",
    "    count += 1\n",
    "    "
   ]
  },
  {
   "cell_type": "markdown",
   "metadata": {},
   "source": [
    "## What is a Loop?\n",
    "\n",
    "* A loop is a programming construct that enables the repeated execution of a specific block of code(*indented code*).\n",
    "* Used when you want to automate task that needs to performed multiple times.\n",
    "* They control the flow of the program, allowing certain code to be executed repeatedly until a **condition is met**"
   ]
  },
  {
   "cell_type": "code",
   "execution_count": 7,
   "metadata": {},
   "outputs": [
    {
     "name": "stdout",
     "output_type": "stream",
     "text": [
      "55\n"
     ]
    }
   ],
   "source": [
    "# sum the numbers between 1 and 10\n",
    "sum = 1+2+3+4+5+6+7+8+9+10\n",
    "\n",
    "print(sum)"
   ]
  },
  {
   "cell_type": "code",
   "execution_count": 9,
   "metadata": {},
   "outputs": [
    {
     "name": "stdout",
     "output_type": "stream",
     "text": [
      "55\n"
     ]
    }
   ],
   "source": [
    "# use a loop to find the sum of numbers between 1 and 10\n",
    "# declare a variable to store the sum\n",
    "\n",
    "sum = 0\n",
    "# creating a for loop\n",
    "for num in range(1,11):#range(1,11)>> all the numbers betn 1 and 11 excluding 11.\n",
    "    sum += num\n",
    "    \n",
    "print(sum)"
   ]
  },
  {
   "cell_type": "markdown",
   "metadata": {},
   "source": [
    "## Control Flow\n",
    "\n",
    "* Loops influence the order in which instructions are executed.\n",
    "* When a loop is encountered, the program enters a loop body, executing the contained code.\n",
    "* Syntax\n",
    "\n",
    "```\n",
    "loop made of a condition:\n",
    "      contained block of\n",
    "      code to be executed\n",
    "      condition is True/met\n",
    "Program exits the loop\n",
    "```\n",
    "* At each iteration, the program checks the loop condition. If the condition remains **True** the loop body is executed again.\n",
    "* If it becomes **False**, the program exits the loop.\n",
    "* **Iteration** - Refers to each cycle or repetition of a loop."
   ]
  },
  {
   "cell_type": "code",
   "execution_count": 12,
   "metadata": {},
   "outputs": [
    {
     "name": "stdout",
     "output_type": "stream",
     "text": [
      "Countdown value: 5!!\n",
      "Countdown value: 4!!\n",
      "Countdown value: 3!!\n",
      "Countdown value: 2!!\n",
      "Countdown value: 1!!\n",
      "Exit loop and program continues!!\n"
     ]
    }
   ],
   "source": [
    "# Example\n",
    "# demonstration of control flow\n",
    "# assume the print statement below are blocks of code\n",
    "\n",
    "#print(\"This is an example of a loop\")\n",
    "#print(\"We are dempnstrating while loops\")\n",
    "\n",
    "#loop to simulate a count down\n",
    "countdown = 5\n",
    "\n",
    "#our program meets a loop block >> while loop\n",
    "while (countdown > 0):\n",
    "    # code to execute when condition is true\n",
    "    print(f\"Countdown value: {countdown}!!\")\n",
    "    countdown -= 1\n",
    "    \n",
    "    # program exits the loop when the condition is no longer met\n",
    "print(\"Exit loop and program continues!!\")"
   ]
  },
  {
   "cell_type": "markdown",
   "metadata": {},
   "source": [
    "## Types of loops\n",
    "\n",
    "* There are two main types of loops in python:\n",
    "```for```and ```while```\n",
    "* Type of loop you choose depends on whether you know the number of iterations in advance or if depends on a condition.\n",
    "* When you know the number of iterations, use _while loop_, otherwise use a _for loop_"
   ]
  },
  {
   "cell_type": "markdown",
   "metadata": {},
   "source": [
    "### For Loop\n",
    "\n",
    "* Basic syntax\n",
    "\n",
    "```\n",
    "for item in sequence:\n",
    "    # code to be executed for each item\n",
    "    # ...\n",
    "```\n",
    "\n",
    "* `for`: Keyword that signals the start of the loop.\n",
    "* `item`: Is a variable that represents the current item in the aquence during each iteration.The loop will automatically iterate through the entire \n",
    "* `in` : A keyword used to specify that you are iterating in a given sequence.\n",
    "* `sequence` : Collection of items that you want to iterate over (e.g list, string, tuple, or range).\n",
    "* `:` : signifies the start of the indented code block to be executed for each iteration of the loop.\n",
    "\n",
    "Inside the indented code block, you place the operations/actions that you want to perform on each item in the sequence. The loop will automatically iterate through the entire sequence, executing the code block for each item."
   ]
  },
  {
   "cell_type": "code",
   "execution_count": 2,
   "metadata": {},
   "outputs": [
    {
     "name": "stdout",
     "output_type": "stream",
     "text": [
      "Kisumu\n",
      "Kisii\n",
      "Nyamira\n",
      "Homa Bay\n",
      "Migori\n"
     ]
    }
   ],
   "source": [
    "# code demonstration\n",
    "# list of High courts in Kenya\n",
    "high_courts = [\"Kisumu\", \"Kisii\",'Nyamira','Homa Bay', 'Migori','Kitale']\n",
    "\n",
    "for court in high_courts:\n",
    "    # code block to execute each item\n",
    "    print(court)\n",
    "    if (court == 'Migori'):\n",
    "        break;"
   ]
  },
  {
   "cell_type": "markdown",
   "metadata": {},
   "source": [
    "### Sequence Types\n",
    "\n",
    "* Referes to data structures that hold a colection of elements, where each element is accessible by an index or a key.\n",
    "* These elements are ordered, meaning they have a specific position within the sequence."
   ]
  },
  {
   "cell_type": "code",
   "execution_count": 3,
   "metadata": {},
   "outputs": [
    {
     "name": "stdout",
     "output_type": "stream",
     "text": [
      "['Kisumu', 'Kisii', 'Nyamira', 'Homa Bay', 'Migori', 'Kitale']\n",
      "Homa Bay\n"
     ]
    }
   ],
   "source": [
    "# list\n",
    "print(high_courts)\n",
    "\n",
    "# Accessing elements/items in a list\n",
    "print(high_courts[3])"
   ]
  },
  {
   "cell_type": "code",
   "execution_count": 6,
   "metadata": {},
   "outputs": [
    {
     "name": "stdout",
     "output_type": "stream",
     "text": [
      "kisumu\n",
      "kisii\n",
      "nyamira\n",
      "homa bay\n",
      "migori\n",
      "kitale\n"
     ]
    }
   ],
   "source": [
    "# looping through the list court\n",
    "for court in high_courts:\n",
    "    # code to execute\n",
    "    lower_case = court.lower()\n",
    "    print(lower_case)"
   ]
  },
  {
   "cell_type": "markdown",
   "metadata": {},
   "source": [
    "**A tuple** : Similar to lists, but they are immutable, meaning: their contents cannot be changed after creation.\n",
    "* **Syntax** :\n",
    "```tuple_name = (item1,item2)```\n"
   ]
  },
  {
   "cell_type": "code",
   "execution_count": 7,
   "metadata": {},
   "outputs": [
    {
     "name": "stdout",
     "output_type": "stream",
     "text": [
      "('Kocheli', 'solo', 'Nyambane', 'Yusuf')\n",
      "Kocheli\n"
     ]
    }
   ],
   "source": [
    "noise_makers = (\"Kocheli\",\"solo\",'Nyambane',\"Yusuf\")\n",
    "\n",
    "print(noise_makers)\n",
    "\n",
    "# accessing items in a tuple\n",
    "print(noise_makers[0])"
   ]
  },
  {
   "cell_type": "code",
   "execution_count": 8,
   "metadata": {},
   "outputs": [
    {
     "name": "stdout",
     "output_type": "stream",
     "text": [
      "Kocheli\n",
      "solo\n",
      "Nyambane\n",
      "Yusuf\n"
     ]
    }
   ],
   "source": [
    "# loop trough a tuple\n",
    "for noise_maker in noise_makers:\n",
    "    print(noise_maker)"
   ]
  },
  {
   "cell_type": "code",
   "execution_count": 1,
   "metadata": {},
   "outputs": [
    {
     "name": "stdout",
     "output_type": "stream",
     "text": [
      "J\n",
      "u\n",
      "d\n",
      "i\n",
      "c\n",
      "i\n",
      "a\n",
      "r\n",
      "y\n"
     ]
    }
   ],
   "source": [
    "# iterate through a string\n",
    "word = \"Judiciary\"\n",
    "\n",
    "for char in word:\n",
    "    print(char)"
   ]
  },
  {
   "cell_type": "code",
   "execution_count": 2,
   "metadata": {},
   "outputs": [
    {
     "name": "stdout",
     "output_type": "stream",
     "text": [
      "['J', 'u', 'd', 'i', 'c', 'i', 'a', 'r', 'y']\n"
     ]
    }
   ],
   "source": [
    "# empty list to store characters\n",
    "word_chars = []\n",
    "\n",
    "for char in word:\n",
    "    word_chars.append(char)\n",
    "print(word_chars)"
   ]
  },
  {
   "cell_type": "code",
   "execution_count": 6,
   "metadata": {},
   "outputs": [
    {
     "name": "stdout",
     "output_type": "stream",
     "text": [
      "[1, 3, 5, 7, 9]\n"
     ]
    }
   ],
   "source": [
    "# Range\n",
    "#empty list to store numbers\n",
    "odd_nums = []\n",
    "\n",
    "for num in range(1, 10):\n",
    "    if (num % 2 == 1):\n",
    "        odd_nums.append(num)\n",
    "print(odd_nums)"
   ]
  },
  {
   "cell_type": "markdown",
   "metadata": {},
   "source": [
    "## Loop Body\n",
    "\n",
    "* Refers to the block of code that is executed repeatedly for each iteration of a loop.\n",
    "* In programming, a loop is designed to perform repeated  tasks automatically and the loop body contains the instructions that define those actions are."
   ]
  },
  {
   "cell_type": "markdown",
   "metadata": {},
   "source": [
    "#### Imortant points to consider:\n",
    "1. **indentation** - The loop is indented to indicate that is the part of the loop. It defines the scope of the loop body.\n",
    "2. **iteration** - loop body is executed once for each item in the sequence that contains the elements upon which the instructions and execution will be repeated.\n",
    "3. **accessing loop variable** - the loop variable value can be accessed inside the loop body to perform specific actions to that value.\n",
    "4. **manipulation** - inside the loop body, you can perform various operations on the loop variable or use it to interact with other parts of the program."
   ]
  },
  {
   "cell_type": "code",
   "execution_count": 10,
   "metadata": {},
   "outputs": [
    {
     "name": "stdout",
     "output_type": "stream",
     "text": [
      "The square of 1 = 1\n",
      "The square of 2 = 4\n",
      "The square of 3 = 9\n",
      "The square of 4 = 16\n",
      "The square of 5 = 25\n"
     ]
    }
   ],
   "source": [
    "# Example\n",
    "for num in range(1, 6):\n",
    "    square = num ** 2\n",
    "    print(f\"The square of {num} = {square}\")"
   ]
  },
  {
   "cell_type": "markdown",
   "metadata": {},
   "source": [
    "### `range()`\n",
    "\n",
    "* a function commonly used when working with loops.\n",
    "* Generates a sequence of numbers within a specified range , which can be used for various purposes. e.g., iterating through a loop of certain numbers or creating a list of numbers.\n",
    "* `range()` takes upto 3 arguments:\n",
    "1. **start(inclusive, optional )** - The starting value of the sequence. If omitted the sequence starts from zero by default.\n",
    "2. **stop(exclusive)** - The ending value of the sequence. The sequence will go upto the value but not include the value in the sequence. Example; if stop is 50 and start is zero, the sequence will be all numbers including zero to 49 but not 50.\n",
    "3. **step(optional)** - he difference between consecutive values in the sequence. By default, the value of step is 1.\n",
    "\n",
    "* syntax ```range(start, stop, step)```"
   ]
  },
  {
   "cell_type": "markdown",
   "metadata": {},
   "source": [
    "#### Basic range\n",
    "\n",
    "* Only useing stop to generate a sequence of numbers from 0 to 10\n",
    "* N.B. if you dont include start and step, python will automatically pick the numbers 0 and 1 as the default value for stop and step."
   ]
  },
  {
   "cell_type": "code",
   "execution_count": 11,
   "metadata": {},
   "outputs": [
    {
     "name": "stdout",
     "output_type": "stream",
     "text": [
      "0\n",
      "1\n",
      "2\n",
      "3\n",
      "4\n",
      "5\n",
      "6\n",
      "7\n",
      "8\n",
      "9\n",
      "10\n"
     ]
    }
   ],
   "source": [
    "# from 0 to 10\n",
    "for num in range(11):\n",
    "    print(num)"
   ]
  },
  {
   "cell_type": "markdown",
   "metadata": {},
   "source": [
    "#### Specifying start and stop"
   ]
  },
  {
   "cell_type": "code",
   "execution_count": 12,
   "metadata": {},
   "outputs": [
    {
     "name": "stdout",
     "output_type": "stream",
     "text": [
      "30\n",
      "31\n",
      "32\n",
      "33\n",
      "34\n",
      "35\n",
      "36\n",
      "37\n",
      "38\n",
      "39\n",
      "40\n"
     ]
    }
   ],
   "source": [
    "# numbers between 30 and 40\n",
    "for num in range(30,41):\n",
    "    print(num)"
   ]
  },
  {
   "cell_type": "markdown",
   "metadata": {},
   "source": [
    "#### Specifying start,stop and step"
   ]
  },
  {
   "cell_type": "code",
   "execution_count": 21,
   "metadata": {},
   "outputs": [
    {
     "name": "stdout",
     "output_type": "stream",
     "text": [
      "3\n",
      "6\n",
      "9\n",
      "12\n",
      "15\n",
      "18\n",
      "21\n",
      "24\n",
      "27\n",
      "30\n"
     ]
    }
   ],
   "source": [
    "# all numbers divisible by 3 between 3 and 31\n",
    "for num in range(3,31,3):\n",
    "    print(num)"
   ]
  },
  {
   "cell_type": "code",
   "execution_count": 23,
   "metadata": {},
   "outputs": [
    {
     "name": "stdout",
     "output_type": "stream",
     "text": [
      "[1, 3, 5, 7, 9, 11, 13, 15, 17, 19, 21, 23, 25, 27, 29, 31, 33, 35, 37, 39, 41, 43, 45, 47, 49, 51, 53, 55, 57, 59, 61, 63, 65, 67, 69, 71, 73, 75, 77, 79, 81, 83, 85, 87, 89, 91, 93, 95, 97, 99]\n"
     ]
    }
   ],
   "source": [
    "even_numbers = []\n",
    "for num in range(1,101,2):\n",
    "    even_numbers.append(num)\n",
    "print(even_numbers)"
   ]
  },
  {
   "cell_type": "code",
   "execution_count": 30,
   "metadata": {},
   "outputs": [],
   "source": [
    "# example of a function\n",
    "def greet_students(student_names):\n",
    "    message = f\"Hello {student_names}, welcome to the training!!\"\n",
    "    \n",
    "    return print(message)\n"
   ]
  },
  {
   "cell_type": "code",
   "execution_count": 31,
   "metadata": {},
   "outputs": [
    {
     "name": "stdout",
     "output_type": "stream",
     "text": [
      "Hello Prof, welcome to the training!!\n"
     ]
    }
   ],
   "source": [
    "greet_students(\"Prof\")"
   ]
  },
  {
   "cell_type": "code",
   "execution_count": 20,
   "metadata": {},
   "outputs": [
    {
     "name": "stdout",
     "output_type": "stream",
     "text": [
      "Hello Prof, welcome to the training!!\n",
      "Hello John, welcome to the training!!\n",
      "Hello mercy, welcome to the training!!\n",
      "Hello Lumumba, welcome to the training!!\n"
     ]
    }
   ],
   "source": [
    "student_names = ['Prof', 'John','mercy','Lumumba']\n",
    "\n",
    "#loop body with a function\n",
    "for name in student_names:\n",
    "    greet_students(name)"
   ]
  },
  {
   "cell_type": "markdown",
   "metadata": {},
   "source": [
    "# Nested loops\n",
    "\n",
    "* A loop within a loop, the second loop is within the body of the first loop. \n",
    "* first loop and second loop must be iteratable."
   ]
  },
  {
   "cell_type": "code",
   "execution_count": 24,
   "metadata": {},
   "outputs": [
    {
     "name": "stdout",
     "output_type": "stream",
     "text": [
      "['Prof', 'John', 'mercy', 'Lumumba']\n"
     ]
    }
   ],
   "source": [
    "print(student_names)"
   ]
  },
  {
   "cell_type": "code",
   "execution_count": 29,
   "metadata": {},
   "outputs": [
    {
     "name": "stdout",
     "output_type": "stream",
     "text": [
      "P\n",
      "r\n",
      "o\n",
      "f\n",
      "\n",
      "Prof\n",
      "John\n",
      "mercy\n",
      "Lumumba\n"
     ]
    }
   ],
   "source": [
    "item_1 = student_names[0]\n",
    "\n",
    "for letters in item_1:\n",
    "    print(letters)\n",
    "print() \n",
    "for student in student_names:\n",
    "    print(student)\n"
   ]
  },
  {
   "cell_type": "code",
   "execution_count": 26,
   "metadata": {},
   "outputs": [
    {
     "name": "stdout",
     "output_type": "stream",
     "text": [
      "P\n",
      "r\n",
      "o\n",
      "f\n",
      "\n",
      "J\n",
      "o\n",
      "h\n",
      "n\n",
      "\n",
      "m\n",
      "e\n",
      "r\n",
      "c\n",
      "y\n",
      "\n",
      "L\n",
      "u\n",
      "m\n",
      "u\n",
      "m\n",
      "b\n",
      "a\n",
      "\n"
     ]
    }
   ],
   "source": [
    "for student in student_names:# first loop\n",
    "    for letter in student:# second loop\n",
    "        print(letter)\n",
    "    print() # line break after every name"
   ]
  },
  {
   "cell_type": "code",
   "execution_count": 33,
   "metadata": {},
   "outputs": [
    {
     "name": "stdout",
     "output_type": "stream",
     "text": [
      "* \n",
      "* * \n",
      "* * * \n",
      "* * * * \n"
     ]
    }
   ],
   "source": [
    "for i in range(1, 5):  \n",
    "    print('* ' * i)"
   ]
  },
  {
   "cell_type": "code",
   "execution_count": 1,
   "metadata": {},
   "outputs": [
    {
     "name": "stdout",
     "output_type": "stream",
     "text": [
      "*\n",
      "**\n",
      "***\n",
      "****\n"
     ]
    }
   ],
   "source": [
    "# define the number of rows\n",
    "num_rows = 4\n",
    "\n",
    "# outer loop\n",
    "for i in range(num_rows):\n",
    "    # inner loop to print the asterisks\n",
    "    for j in range(i + 1):\n",
    "        print(\"*\", end = \"\")\n",
    "    # move to the next line after each row is printed\n",
    "    print()"
   ]
  },
  {
   "cell_type": "code",
   "execution_count": 4,
   "metadata": {},
   "outputs": [
    {
     "name": "stdout",
     "output_type": "stream",
     "text": [
      "      * \n",
      "    * * \n",
      "  * * * \n",
      "* * * * \n"
     ]
    }
   ],
   "source": [
    "# Create a pyramid ehre spaces are reducing fro 3 to 0\n",
    "rows = 4\n",
    "\n",
    "#loop through each row\n",
    "for i in range(0, rows):\n",
    "    for j in range(rows -i -1):\n",
    "        print(\" \", end =\" \")\n",
    "    for k in range(0,i+1):\n",
    "        print(\"*\", end =\" \")\n",
    "            \n",
    "    print()\n",
    "    "
   ]
  },
  {
   "cell_type": "code",
   "execution_count": 26,
   "metadata": {},
   "outputs": [
    {
     "name": "stdout",
     "output_type": "stream",
     "text": [
      "[1, 3, 5, 7, 9] [2, 4, 6, 8, 10]\n"
     ]
    }
   ],
   "source": [
    "odd =[]\n",
    "even = []\n",
    "\n",
    "for num in range(1,11):\n",
    "    if (num % 2==1):\n",
    "        odd.append(num)\n",
    "    else:\n",
    "        even.append(num)\n",
    "\n",
    "print(odd, even)"
   ]
  },
  {
   "cell_type": "code",
   "execution_count": 28,
   "metadata": {},
   "outputs": [
    {
     "name": "stdout",
     "output_type": "stream",
     "text": [
      "True\n",
      "True\n"
     ]
    }
   ],
   "source": [
    "num = 4\n",
    "while num < 6:\n",
    "    print(\"True\")\n",
    "    num += 1"
   ]
  },
  {
   "cell_type": "markdown",
   "metadata": {},
   "source": [
    "# Creating a Table\n",
    "* Declare the column names separated by ```[||]```.\n",
    "* Declare line spacing using ```[-]```; the more the bigger the spacing. Alignment done by use of ```:```.\n",
    "* List the rows values in order ```(first to last)```.\n",
    "\n",
    "|S.No|Team|m|d|l|\n",
    "|:--:|:------:|:----:|:----:|:----:|\n",
    "|1.|Kabras|3|0|0|\n",
    "|2.|KCB|1|1|1|\n",
    "|3.|Queens|0|1|2|\n",
    "|4.|Strath|0|1|2|\n",
    "\n"
   ]
  },
  {
   "cell_type": "markdown",
   "metadata": {},
   "source": [
    "#### Break and Continue"
   ]
  },
  {
   "cell_type": "markdown",
   "metadata": {},
   "source": [
    "* They are control flow statements ~ used to control the flow of loops.\n",
    "* **Break** - Used to immediately exit a loop when a certain condition is met.\n",
    "When the program encounters the ```break``` statement, it terminates the loop and continues to execute the code after the loop. It is often used when a specific condition is satisfied and there is no need to continue looping further."
   ]
  },
  {
   "cell_type": "code",
   "execution_count": 5,
   "metadata": {},
   "outputs": [
    {
     "name": "stdout",
     "output_type": "stream",
     "text": [
      "0\n",
      "1\n",
      "2\n",
      "3\n",
      "4\n"
     ]
    }
   ],
   "source": [
    "# example 1\n",
    "for i in range(10):\n",
    "    if i == 5:\n",
    "        break #exit the loop when i is 5\n",
    "    print(i)"
   ]
  },
  {
   "cell_type": "code",
   "execution_count": 8,
   "metadata": {},
   "outputs": [
    {
     "name": "stdout",
     "output_type": "stream",
     "text": [
      "0\n",
      "1\n",
      "2\n",
      "3\n",
      "4\n",
      "5\n"
     ]
    }
   ],
   "source": [
    "# example 2\n",
    "for i in range(10):\n",
    "    print(i)\n",
    "    if i == 5:\n",
    "        break #exit the loop when i is 5"
   ]
  },
  {
   "cell_type": "markdown",
   "metadata": {},
   "source": [
    "* **Continue** - Used to skip the remaining code in the current iteration of a loop and move to the next iteration. Useful when you want to skip certain steps or conditions within a loop without exiting the loop enirely. \n"
   ]
  },
  {
   "cell_type": "code",
   "execution_count": 9,
   "metadata": {},
   "outputs": [
    {
     "name": "stdout",
     "output_type": "stream",
     "text": [
      "['Mahamri', 'Mbaazi', 'Tea']\n"
     ]
    }
   ],
   "source": [
    "# Example 1 ~Food list\n",
    "breakfast = [\"Eggs\", \"Mahamri\",\"Mbaazi\",\"Vucheni\",\"Tea\"]\n",
    "\n",
    "eugene_list = []\n",
    "\n",
    "for food in breakfast:\n",
    "    if (food == \"Eggs\"):\n",
    "        continue\n",
    "    elif  (food == \"Vucheni\"):\n",
    "        continue\n",
    "    else:\n",
    "        eugene_list.append(food)\n",
    "print(eugene_list)\n"
   ]
  },
  {
   "cell_type": "code",
   "execution_count": 11,
   "metadata": {},
   "outputs": [
    {
     "name": "stdout",
     "output_type": "stream",
     "text": [
      "0\n",
      "1\n",
      "2\n",
      "3\n",
      "4\n",
      "6\n",
      "7\n",
      "8\n",
      "9\n"
     ]
    }
   ],
   "source": [
    "# example 2\n",
    "for i in range(10):\n",
    "    if i == 5:\n",
    "        continue\n",
    "    print(i)"
   ]
  },
  {
   "cell_type": "markdown",
   "metadata": {},
   "source": [
    "### While Loops\n",
    "\n",
    "* Alllows you to repeat a block of code as long as a certain condition remains true.\n",
    "* Basic syntax\n",
    "```\n",
    "while condition:\n",
    "     # code block\n",
    "     # to execute\n",
    "```\n",
    "* It's crucial to make sure that the condition eventually becomes `False`, otherwise you end up with an infinite loop; causes your program to run indefinitely till your RAM runs out."
   ]
  },
  {
   "cell_type": "markdown",
   "metadata": {},
   "source": [
    "#### While Loop key concepts\n",
    "\n",
    "1. **Initialization** - Initialize any variables that are used in loop condition before entering the loop.\n",
    "2. **Update our condition** -  Inside the loop, make sure that the condition is modified in a way that leads to it eventually becoming `False`. Otherwise you will create an infinite loop."
   ]
  },
  {
   "cell_type": "code",
   "execution_count": 12,
   "metadata": {},
   "outputs": [
    {
     "name": "stdout",
     "output_type": "stream",
     "text": [
      "0\n",
      "1\n",
      "2\n",
      "3\n",
      "4\n",
      "5\n"
     ]
    }
   ],
   "source": [
    "# Example ~ while loop to print numbers 1 to 5\n",
    "count = 0 # Initialization\n",
    "while (count <= 5): # while loop with the condition \n",
    "    print(count)\n",
    "    count += 1 # updating our condition after every iteration\n",
    "\n",
    "\n"
   ]
  },
  {
   "cell_type": "code",
   "execution_count": 13,
   "metadata": {},
   "outputs": [
    {
     "name": "stdout",
     "output_type": "stream",
     "text": [
      "apple\n",
      "banana\n"
     ]
    }
   ],
   "source": [
    "# Example 2\n",
    "fruit = [\"apple\",\"banana\",\"cherry\",\"mango\",\"pawpaw\"]\n",
    "\n",
    "# Repetion in displaying values of the list\n",
    "print(fruit[0])\n",
    "print(fruit[1])"
   ]
  },
  {
   "cell_type": "code",
   "execution_count": 15,
   "metadata": {},
   "outputs": [
    {
     "name": "stdout",
     "output_type": "stream",
     "text": [
      "apple\n",
      "banana\n",
      "cherry\n",
      "mango\n",
      "pawpaw\n"
     ]
    }
   ],
   "source": [
    "# print everything in the list using while loop\n",
    "index = 0\n",
    "\n",
    "while index < len(fruit):\n",
    "    print(fruit[index])\n",
    "    index += 1 # updating the condition"
   ]
  },
  {
   "cell_type": "code",
   "execution_count": 19,
   "metadata": {},
   "outputs": [
    {
     "name": "stdout",
     "output_type": "stream",
     "text": [
      "1 * 9 = 9\n",
      "2 * 9 = 18\n",
      "3 * 9 = 27\n",
      "4 * 9 = 36\n",
      "5 * 9 = 45\n",
      "6 * 9 = 54\n",
      "7 * 9 = 63\n",
      "8 * 9 = 72\n",
      "9 * 9 = 81\n",
      "10 * 9 = 90\n"
     ]
    }
   ],
   "source": [
    "# Example 3 multiplication table of 9\n",
    "multiplier = 1\n",
    "\n",
    "while (multiplier <= 10):\n",
    "    product = multiplier * 9\n",
    "    print(f\"{multiplier} * 9 = {product}\")\n",
    "    \n",
    "    multiplier += 1 # updating the condition\n"
   ]
  },
  {
   "cell_type": "markdown",
   "metadata": {},
   "source": [
    "**Nested while loop**"
   ]
  },
  {
   "cell_type": "code",
   "execution_count": 20,
   "metadata": {},
   "outputs": [
    {
     "name": "stdout",
     "output_type": "stream",
     "text": [
      "* \n",
      "* * \n",
      "* * * \n",
      "* * * * \n",
      "* * * * * \n"
     ]
    }
   ],
   "source": [
    "rows = 5 #initialize\n",
    "i = 0\n",
    "\n",
    "while (i < 5): # outer loop condition\n",
    "    j = 0 # initialize variable for inner loop\n",
    "    while j <= i: # inner loop condition\n",
    "        print(\"*\", end=\" \")\n",
    "        j += 1 # update inner loop\n",
    "    print()\n",
    "    i += 1 # update outer loop\n"
   ]
  },
  {
   "cell_type": "code",
   "execution_count": null,
   "metadata": {},
   "outputs": [],
   "source": []
  }
 ],
 "metadata": {
  "kernelspec": {
   "display_name": "Python 3",
   "language": "python",
   "name": "python3"
  },
  "language_info": {
   "codemirror_mode": {
    "name": "ipython",
    "version": 3
   },
   "file_extension": ".py",
   "mimetype": "text/x-python",
   "name": "python",
   "nbconvert_exporter": "python",
   "pygments_lexer": "ipython3",
   "version": "3.8.5"
  }
 },
 "nbformat": 4,
 "nbformat_minor": 4
}
