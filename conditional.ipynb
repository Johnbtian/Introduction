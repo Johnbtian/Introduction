{
 "cells": [
  {
   "cell_type": "code",
   "execution_count": 1,
   "metadata": {},
   "outputs": [],
   "source": [
    "# Leave days\n",
    "leave_days = 0 #initialize"
   ]
  },
  {
   "cell_type": "code",
   "execution_count": 2,
   "metadata": {},
   "outputs": [
    {
     "name": "stdout",
     "output_type": "stream",
     "text": [
      "1\n"
     ]
    }
   ],
   "source": [
    "leave_days = leave_days + 1\n",
    "print(leave_days)"
   ]
  },
  {
   "cell_type": "code",
   "execution_count": 4,
   "metadata": {},
   "outputs": [
    {
     "name": "stdout",
     "output_type": "stream",
     "text": [
      "3\n"
     ]
    }
   ],
   "source": [
    "# increamenting variable by value\n",
    "leave_days += 1 #leave_days = leave_days-1\n",
    "print(leave_days)"
   ]
  },
  {
   "cell_type": "code",
   "execution_count": 6,
   "metadata": {},
   "outputs": [
    {
     "name": "stdout",
     "output_type": "stream",
     "text": [
      "1\n"
     ]
    }
   ],
   "source": [
    "# decreament by a value\n",
    "leave_days -= 1 #leave_days = leave_days-1\n",
    "print(leave_days)"
   ]
  },
  {
   "cell_type": "markdown",
   "metadata": {},
   "source": [
    "# If Statements"
   ]
  },
  {
   "cell_type": "code",
   "execution_count": 11,
   "metadata": {},
   "outputs": [
    {
     "name": "stdout",
     "output_type": "stream",
     "text": [
      "20\n"
     ]
    }
   ],
   "source": [
    "leave_days = 21\n",
    "\n",
    "# use boolean\n",
    "take_leave = True\n",
    "\n",
    "#Decided to take leave\n",
    "if take_leave: #condition\n",
    "    \n",
    "    # if the condition is met \n",
    "    leave_days -= 1\n",
    "print(leave_days) "
   ]
  },
  {
   "cell_type": "code",
   "execution_count": 13,
   "metadata": {},
   "outputs": [
    {
     "name": "stdout",
     "output_type": "stream",
     "text": [
      "You can have Id\n"
     ]
    }
   ],
   "source": [
    "age = 20\n",
    "\n",
    "if age > 18:\n",
    "    print(\"You can have Id\")"
   ]
  },
  {
   "cell_type": "code",
   "execution_count": 16,
   "metadata": {},
   "outputs": [
    {
     "name": "stdout",
     "output_type": "stream",
     "text": [
      "Pass\n"
     ]
    }
   ],
   "source": [
    "#if else statement to determine if students have passed\n",
    "score = 45\n",
    "\n",
    "if score > 40:\n",
    "    outcome = \"Pass\" # code to execute\n",
    "    print(outcome) # code to excute when if statement is true\n",
    "\n",
    "#when the students scores 40 or below\n",
    "else:\n",
    "    outcome = \"Fail\"\n",
    "    print(outcome)"
   ]
  },
  {
   "cell_type": "code",
   "execution_count": 17,
   "metadata": {},
   "outputs": [
    {
     "name": "stdout",
     "output_type": "stream",
     "text": [
      "Fail\n"
     ]
    }
   ],
   "source": [
    "# what happens when a student scores below 40\n",
    "score = 30\n",
    "\n",
    "if score > 40:\n",
    "    outcome = \"Pass\" # code to execute\n",
    "    print(outcome) # code to excute when if statement is true\n",
    "\n",
    "#when the students scores 40 or below\n",
    "else:\n",
    "    outcome = \"Fail\"\n",
    "    print(outcome)"
   ]
  },
  {
   "cell_type": "markdown",
   "metadata": {},
   "source": [
    "## And\n",
    "\n",
    "* Used to join 2 or more conditions\n",
    "* Example, students who score above 40 but below 50 are said to have attained a grade D\n",
    "* **NOTE-** For 'and', all conditions have to be True for the condition to be True "
   ]
  },
  {
   "cell_type": "code",
   "execution_count": 18,
   "metadata": {},
   "outputs": [
    {
     "name": "stdout",
     "output_type": "stream",
     "text": [
      "Boy\n"
     ]
    }
   ],
   "source": [
    "age = 12\n",
    "gender = 'Male'\n",
    "\n",
    "if (age < 18) and (gender == \"Male\"):\n",
    "    print('Boy')\n"
   ]
  },
  {
   "cell_type": "markdown",
   "metadata": {},
   "source": [
    "AND Summary\n",
    "\n",
    "|Condition 1|Condition 2|Final Condition|\n",
    "|:-------:|:-----:|:-----:|\n",
    "|True|True|True|\n",
    "|True|False|False|\n",
    "|False|True|False|\n",
    "|False|False|False|\n",
    "\n",
    "Grading\n",
    "\n",
    "above 40 >> D\n",
    "above 50 >> C\n",
    "above 60 >> B\n",
    "above 70 >> A\n",
    "below 40 >> fail"
   ]
  },
  {
   "cell_type": "code",
   "execution_count": 25,
   "metadata": {},
   "outputs": [
    {
     "name": "stdout",
     "output_type": "stream",
     "text": [
      "B\n"
     ]
    }
   ],
   "source": [
    "# grades\n",
    "grade = 67 # initialize\n",
    "\n",
    "if (grade >= 40) and (grade < 50):\n",
    "    grade = \"D\"\n",
    "    print(grade)\n",
    "elif (grade >= 50) and (grade < 60):\n",
    "    grade = \"C\"\n",
    "    print(grade)\n",
    "elif (grade >= 60) and (grade < 70):\n",
    "    grade = \"B\"\n",
    "    print(grade)\n",
    "elif (grade >= 70):\n",
    "    grade = \"B\"\n",
    "    print(grade)\n",
    "else:\n",
    "    print(\"Fail\")"
   ]
  },
  {
   "cell_type": "markdown",
   "metadata": {},
   "source": [
    "## OR\n",
    "\n",
    "* Just like and is used to join conditions\n",
    "* At least one condition has to be true\n",
    "\n",
    "Summary\n",
    "\n",
    "|Condition 1|Condition 2|Final Condition|\n",
    "|:-------:|:-----:|:-----:|\n",
    "|True|True|True|\n",
    "|True|False|True|\n",
    "|False|True|True|\n",
    "|False|False|False|"
   ]
  },
  {
   "cell_type": "code",
   "execution_count": 27,
   "metadata": {},
   "outputs": [
    {
     "name": "stdout",
     "output_type": "stream",
     "text": [
      "You are allowed into the bouncing castle.\n"
     ]
    }
   ],
   "source": [
    "height = 45\n",
    "\n",
    "weight = 20\n",
    "#condition is true if either condition is met\n",
    "if (height < 40) or (weight < 50):\n",
    "    print(\"You are allowed into the bouncing castle.\")\n",
    "    \n",
    "# weight has met the creteria height not\n",
    "# height has not met the condition"
   ]
  },
  {
   "cell_type": "code",
   "execution_count": 28,
   "metadata": {},
   "outputs": [
    {
     "name": "stdout",
     "output_type": "stream",
     "text": [
      "You will destroy the bouncing castle.\n"
     ]
    }
   ],
   "source": [
    "height = 65\n",
    "\n",
    "weight = 90\n",
    "#condition is true if either condition is met\n",
    "if (height < 40) or (weight < 50):\n",
    "    print(\"You are allowed into the bouncing castle.\")\n",
    "else: # will be excuted if both conditions are not met/false\n",
    "    print(\"You will destroy the bouncing castle.\")\n",
    "    "
   ]
  },
  {
   "cell_type": "markdown",
   "metadata": {},
   "source": [
    "## Knock yoursef out\n",
    "\n",
    "1. Write a program that determines whether a number is even or odd. Print a message indicating whether the number is even or odd.\n",
    "2. Write a program that checks if a given year is a leap year. A leap year is divisible by 4, but not divisible by 100, except if its divisible by 400.\n",
    "3. Write a program that will use age to determine the price of a movie theater given:\n",
    "\n",
    "``` Age < 13  price Ksh 400\n",
    "13 <= Age <=17 Ksh 600\n",
    "18 <= Age 65 <= Ksh 800\n",
    "Age > 65 Ksh 350.```\n"
   ]
  },
  {
   "cell_type": "code",
   "execution_count": 2,
   "metadata": {},
   "outputs": [
    {
     "name": "stdin",
     "output_type": "stream",
     "text": [
      "Enter a number: 9\n"
     ]
    },
    {
     "name": "stdout",
     "output_type": "stream",
     "text": [
      "9 is an ODD number\n"
     ]
    }
   ],
   "source": [
    "# Question 1\n",
    "# number is even\n",
    "# number = 10 \n",
    "# alternatively\n",
    "number = int(input(\"Enter a number:\"))\n",
    "\n",
    "if number %2 ==0:\n",
    "    print(f\"{number} is an EVEN number.\")\n",
    "else:\n",
    "    print(f\"{number} is an ODD number\")"
   ]
  },
  {
   "cell_type": "code",
   "execution_count": 5,
   "metadata": {},
   "outputs": [
    {
     "name": "stdin",
     "output_type": "stream",
     "text": [
      "Enter a year: 2000\n"
     ]
    },
    {
     "name": "stdout",
     "output_type": "stream",
     "text": [
      "2000 is a leap year.\n"
     ]
    }
   ],
   "source": [
    "# Question 2 Checking whether is a leap year or not\n",
    "# year = 2022\n",
    "year = int(input(\"Enter a year:\"))\n",
    "\n",
    "if (year %4 ==0) and (year %100 !=0) or(year %400==0 ):\n",
    "    print(f\"{year} is a leap year.\")\n",
    "else:\n",
    "    print(f\"{year} is not a leap year.\")"
   ]
  },
  {
   "cell_type": "code",
   "execution_count": 15,
   "metadata": {},
   "outputs": [
    {
     "name": "stdout",
     "output_type": "stream",
     "text": [
      "The price of a movie theatre for 70 years is 350.\n"
     ]
    }
   ],
   "source": [
    "# Question 3\n",
    "#using Age to determine the price of a movie theatre\n",
    "\n",
    "Age = 70\n",
    "\n",
    "if Age < 13:\n",
    "    price = 400\n",
    "    print(f\"The price of a movie theatre for {Age} years is {price}.\")\n",
    "elif 13 <= Age <= 17:\n",
    "    price = 600\n",
    "    print(f\"The price of a movie theatre for {Age} years is {price}.\")\n",
    "elif 18 <= Age <= 65:\n",
    "    price = 800\n",
    "    print(f\"The price of a movie theatre for {Age} years is {price}.\")\n",
    "else:\n",
    "    print(f\"The price of a movie theatre for {Age} years is 350.\")"
   ]
  },
  {
   "cell_type": "code",
   "execution_count": 16,
   "metadata": {},
   "outputs": [
    {
     "name": "stdout",
     "output_type": "stream",
     "text": [
      "The price of a movie theatre for 42 years is 800.\n"
     ]
    }
   ],
   "source": [
    "# QUestion 3 Alternative using AND\n",
    "#using Age to determine the price of a movie theatre\n",
    "\n",
    "Age = 42\n",
    "\n",
    "if Age < 13:\n",
    "    price = 400\n",
    "    print(f\"The price of a movie theatre for {Age} years is {price}.\")\n",
    "elif (13 <= Age)  and (Age <= 17):\n",
    "    price = 600\n",
    "    print(f\"The price of a movie theatre for {Age} years is {price}.\")\n",
    "elif (18 <= Age) and (Age <= 65):\n",
    "    price = 800\n",
    "    print(f\"The price of a movie theatre for {Age} years is {price}.\")\n",
    "else:\n",
    "    print(f\"The price of a movie theatre for {Age} years is 350.\")"
   ]
  },
  {
   "cell_type": "code",
   "execution_count": null,
   "metadata": {},
   "outputs": [],
   "source": []
  }
 ],
 "metadata": {
  "kernelspec": {
   "display_name": "Python 3",
   "language": "python",
   "name": "python3"
  },
  "language_info": {
   "codemirror_mode": {
    "name": "ipython",
    "version": 3
   },
   "file_extension": ".py",
   "mimetype": "text/x-python",
   "name": "python",
   "nbconvert_exporter": "python",
   "pygments_lexer": "ipython3",
   "version": "3.8.5"
  }
 },
 "nbformat": 4,
 "nbformat_minor": 4
}
