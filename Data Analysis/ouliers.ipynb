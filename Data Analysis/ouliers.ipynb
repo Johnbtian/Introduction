{
 "cells": [
  {
   "cell_type": "code",
   "execution_count": 100,
   "id": "0c3f85bd-d254-4c8a-b1ad-bb3b04d692e4",
   "metadata": {
    "tags": []
   },
   "outputs": [],
   "source": [
    "import pandas as pd\n",
    "import numpy as np\n",
    "import seaborn as sns \n",
    "import matplotlib.pyplot as plt\n",
    "\n",
    "from matplotlib import cbook as cb"
   ]
  },
  {
   "cell_type": "code",
   "execution_count": 49,
   "id": "4615e331-85d9-44dd-9975-03c54fd93aaf",
   "metadata": {
    "tags": []
   },
   "outputs": [],
   "source": [
    "# Create a DataFrame with 100 rows\n",
    "df = pd.DataFrame(index=range(100))\n",
    "\n",
    "np.random.seed(10)\n",
    "\n",
    "# Generate a categorical column\n",
    "categories = ['Category A', 'Category B', 'Category C']\n",
    "df['Category'] = np.random.choice(categories, size=len(df))\n",
    "\n",
    "# Generate a float column\n",
    "df['Float'] = np.random.rand(len(df))\n",
    "\n",
    "# Generate an integer column\n",
    "df['Integer'] = np.random.randint(0, 100, size=len(df))\n",
    "\n",
    "# Add missing values to the columns\n",
    "df.loc[np.random.choice(df.index, size=10), 'Category'] = np.nan\n",
    "df.loc[np.random.choice(df.index, size=10), 'Float'] = np.nan\n",
    "df.loc[np.random.choice(df.index, size=10), 'Integer'] = np.nan\n",
    "\n",
    "# Add outliers to the columns\n",
    "df.loc[np.random.choice(df.index, size=10), 'Float'] = np.random.uniform(100, 1000, size=10)\n",
    "df.loc[np.random.choice(df.index, size=10), 'Integer'] = np.random.randint(1000, 10000, size=10)"
   ]
  },
  {
   "cell_type": "code",
   "execution_count": 50,
   "id": "50e258da-f6a6-44ca-b615-919b6ddba05d",
   "metadata": {
    "tags": []
   },
   "outputs": [
    {
     "data": {
      "text/html": [
       "<div>\n",
       "<style scoped>\n",
       "    .dataframe tbody tr th:only-of-type {\n",
       "        vertical-align: middle;\n",
       "    }\n",
       "\n",
       "    .dataframe tbody tr th {\n",
       "        vertical-align: top;\n",
       "    }\n",
       "\n",
       "    .dataframe thead th {\n",
       "        text-align: right;\n",
       "    }\n",
       "</style>\n",
       "<table border=\"1\" class=\"dataframe\">\n",
       "  <thead>\n",
       "    <tr style=\"text-align: right;\">\n",
       "      <th></th>\n",
       "      <th>Category</th>\n",
       "      <th>Float</th>\n",
       "      <th>Integer</th>\n",
       "    </tr>\n",
       "  </thead>\n",
       "  <tbody>\n",
       "    <tr>\n",
       "      <th>0</th>\n",
       "      <td>Category B</td>\n",
       "      <td>0.637952</td>\n",
       "      <td>81.0</td>\n",
       "    </tr>\n",
       "    <tr>\n",
       "      <th>1</th>\n",
       "      <td>Category B</td>\n",
       "      <td>0.372520</td>\n",
       "      <td>39.0</td>\n",
       "    </tr>\n",
       "    <tr>\n",
       "      <th>2</th>\n",
       "      <td>Category A</td>\n",
       "      <td>0.002407</td>\n",
       "      <td>49.0</td>\n",
       "    </tr>\n",
       "    <tr>\n",
       "      <th>3</th>\n",
       "      <td>Category A</td>\n",
       "      <td>0.548816</td>\n",
       "      <td>97.0</td>\n",
       "    </tr>\n",
       "    <tr>\n",
       "      <th>4</th>\n",
       "      <td>Category B</td>\n",
       "      <td>0.126972</td>\n",
       "      <td>11.0</td>\n",
       "    </tr>\n",
       "  </tbody>\n",
       "</table>\n",
       "</div>"
      ],
      "text/plain": [
       "     Category     Float  Integer\n",
       "0  Category B  0.637952     81.0\n",
       "1  Category B  0.372520     39.0\n",
       "2  Category A  0.002407     49.0\n",
       "3  Category A  0.548816     97.0\n",
       "4  Category B  0.126972     11.0"
      ]
     },
     "execution_count": 50,
     "metadata": {},
     "output_type": "execute_result"
    }
   ],
   "source": [
    "df.head()"
   ]
  },
  {
   "cell_type": "code",
   "execution_count": 51,
   "id": "c696eb58-2a74-426f-9598-edd62d4dc690",
   "metadata": {
    "tags": []
   },
   "outputs": [
    {
     "data": {
      "text/plain": [
       "(100, 3)"
      ]
     },
     "execution_count": 51,
     "metadata": {},
     "output_type": "execute_result"
    }
   ],
   "source": [
    "df.shape"
   ]
  },
  {
   "cell_type": "code",
   "execution_count": 52,
   "id": "6fa4f554-3bf6-4958-8553-69e999f87e43",
   "metadata": {
    "tags": []
   },
   "outputs": [
    {
     "name": "stdout",
     "output_type": "stream",
     "text": [
      "<class 'pandas.core.frame.DataFrame'>\n",
      "RangeIndex: 100 entries, 0 to 99\n",
      "Data columns (total 3 columns):\n",
      " #   Column    Non-Null Count  Dtype  \n",
      "---  ------    --------------  -----  \n",
      " 0   Category  91 non-null     object \n",
      " 1   Float     91 non-null     float64\n",
      " 2   Integer   90 non-null     float64\n",
      "dtypes: float64(2), object(1)\n",
      "memory usage: 2.5+ KB\n"
     ]
    }
   ],
   "source": [
    "df.info()"
   ]
  },
  {
   "cell_type": "code",
   "execution_count": 53,
   "id": "ed25faa7-b88e-472b-96d9-ba50ece917a6",
   "metadata": {
    "tags": []
   },
   "outputs": [
    {
     "data": {
      "text/plain": [
       "Category     9\n",
       "Float        9\n",
       "Integer     10\n",
       "dtype: int64"
      ]
     },
     "execution_count": 53,
     "metadata": {},
     "output_type": "execute_result"
    }
   ],
   "source": [
    "df.isnull().sum()"
   ]
  },
  {
   "cell_type": "code",
   "execution_count": 54,
   "id": "d4f4a0f4-cd18-4de5-8a00-897ad8620774",
   "metadata": {
    "tags": []
   },
   "outputs": [
    {
     "name": "stdout",
     "output_type": "stream",
     "text": [
      "True\n",
      "True\n"
     ]
    }
   ],
   "source": [
    "# why isnull().sum returns the value of True only per column\n",
    "print(True == 1)\n",
    "print(False == 0)"
   ]
  },
  {
   "cell_type": "code",
   "execution_count": 55,
   "id": "e33c9614-be8c-4f58-9145-3021d3439dcd",
   "metadata": {
    "tags": []
   },
   "outputs": [
    {
     "data": {
      "text/plain": [
       "Category A    33\n",
       "Category B    30\n",
       "Category C    28\n",
       "Name: Category, dtype: int64"
      ]
     },
     "execution_count": 55,
     "metadata": {},
     "output_type": "execute_result"
    }
   ],
   "source": [
    "# category column missing values\n",
    "\n",
    "df[\"Category\"].value_counts()"
   ]
  },
  {
   "cell_type": "code",
   "execution_count": 56,
   "id": "4f42abf9-75fd-4e16-9f3d-32acc79a8136",
   "metadata": {
    "tags": []
   },
   "outputs": [
    {
     "data": {
      "text/html": [
       "<div>\n",
       "<style scoped>\n",
       "    .dataframe tbody tr th:only-of-type {\n",
       "        vertical-align: middle;\n",
       "    }\n",
       "\n",
       "    .dataframe tbody tr th {\n",
       "        vertical-align: top;\n",
       "    }\n",
       "\n",
       "    .dataframe thead th {\n",
       "        text-align: right;\n",
       "    }\n",
       "</style>\n",
       "<table border=\"1\" class=\"dataframe\">\n",
       "  <thead>\n",
       "    <tr style=\"text-align: right;\">\n",
       "      <th></th>\n",
       "      <th>Category</th>\n",
       "      <th>Float</th>\n",
       "      <th>Integer</th>\n",
       "    </tr>\n",
       "  </thead>\n",
       "  <tbody>\n",
       "    <tr>\n",
       "      <th>7</th>\n",
       "      <td>NaN</td>\n",
       "      <td>0.659965</td>\n",
       "      <td>21.0</td>\n",
       "    </tr>\n",
       "    <tr>\n",
       "      <th>27</th>\n",
       "      <td>NaN</td>\n",
       "      <td>NaN</td>\n",
       "      <td>74.0</td>\n",
       "    </tr>\n",
       "    <tr>\n",
       "      <th>38</th>\n",
       "      <td>NaN</td>\n",
       "      <td>0.465442</td>\n",
       "      <td>82.0</td>\n",
       "    </tr>\n",
       "    <tr>\n",
       "      <th>42</th>\n",
       "      <td>NaN</td>\n",
       "      <td>0.606147</td>\n",
       "      <td>61.0</td>\n",
       "    </tr>\n",
       "    <tr>\n",
       "      <th>48</th>\n",
       "      <td>NaN</td>\n",
       "      <td>NaN</td>\n",
       "      <td>NaN</td>\n",
       "    </tr>\n",
       "    <tr>\n",
       "      <th>57</th>\n",
       "      <td>NaN</td>\n",
       "      <td>NaN</td>\n",
       "      <td>37.0</td>\n",
       "    </tr>\n",
       "    <tr>\n",
       "      <th>64</th>\n",
       "      <td>NaN</td>\n",
       "      <td>0.962197</td>\n",
       "      <td>96.0</td>\n",
       "    </tr>\n",
       "    <tr>\n",
       "      <th>88</th>\n",
       "      <td>NaN</td>\n",
       "      <td>0.413798</td>\n",
       "      <td>58.0</td>\n",
       "    </tr>\n",
       "    <tr>\n",
       "      <th>96</th>\n",
       "      <td>NaN</td>\n",
       "      <td>0.863770</td>\n",
       "      <td>6559.0</td>\n",
       "    </tr>\n",
       "  </tbody>\n",
       "</table>\n",
       "</div>"
      ],
      "text/plain": [
       "   Category     Float  Integer\n",
       "7       NaN  0.659965     21.0\n",
       "27      NaN       NaN     74.0\n",
       "38      NaN  0.465442     82.0\n",
       "42      NaN  0.606147     61.0\n",
       "48      NaN       NaN      NaN\n",
       "57      NaN       NaN     37.0\n",
       "64      NaN  0.962197     96.0\n",
       "88      NaN  0.413798     58.0\n",
       "96      NaN  0.863770   6559.0"
      ]
     },
     "execution_count": 56,
     "metadata": {},
     "output_type": "execute_result"
    }
   ],
   "source": [
    "# slicing the dataframe where column Category is missing\n",
    "missing_category_slice = df.loc[df[\"Category\"].isnull()]\n",
    "\n",
    "missing_category_slice"
   ]
  },
  {
   "cell_type": "code",
   "execution_count": 59,
   "id": "3cafaa46-1e33-4a3c-9b85-47e595821026",
   "metadata": {
    "tags": []
   },
   "outputs": [],
   "source": [
    "# replace a specific value\n",
    "df.loc[96, \"Category\"] = \"Category C\""
   ]
  },
  {
   "cell_type": "code",
   "execution_count": 60,
   "id": "c9305c35-3c96-4ecd-b942-f6d192a12740",
   "metadata": {
    "tags": []
   },
   "outputs": [
    {
     "data": {
      "text/plain": [
       "Category    Category C\n",
       "Float          0.86377\n",
       "Integer         6559.0\n",
       "Name: 96, dtype: object"
      ]
     },
     "execution_count": 60,
     "metadata": {},
     "output_type": "execute_result"
    }
   ],
   "source": [
    "df.loc[96]"
   ]
  },
  {
   "cell_type": "code",
   "execution_count": 61,
   "id": "82f8dca0-5d84-47dc-8649-f186aeed20d4",
   "metadata": {
    "tags": []
   },
   "outputs": [],
   "source": [
    " # Use loc to replace missing values in the 'Category' column \n",
    "# if the value of the 'Float' column is greater than 200\n",
    "\n",
    "df.loc[df[\"Float\"] > 0.65, \"Category\"] = \"Category A\""
   ]
  },
  {
   "cell_type": "code",
   "execution_count": 62,
   "id": "e72e8e60-6d52-4faa-bbe4-69e089a24987",
   "metadata": {
    "tags": []
   },
   "outputs": [],
   "source": [
    "# Use loc to replace missing values in the 'Category' column based on multiple conditions\n",
    "df.loc[(df['Float'] < 1) & (df['Integer'] > 10), 'Category'] = 'Category C'"
   ]
  },
  {
   "cell_type": "code",
   "execution_count": 63,
   "id": "1499be39-7c76-4eb0-b365-e59c8b1f1881",
   "metadata": {
    "tags": []
   },
   "outputs": [
    {
     "data": {
      "text/plain": [
       "Category     2\n",
       "Float        9\n",
       "Integer     10\n",
       "dtype: int64"
      ]
     },
     "execution_count": 63,
     "metadata": {},
     "output_type": "execute_result"
    }
   ],
   "source": [
    "df.isnull().sum()"
   ]
  },
  {
   "cell_type": "markdown",
   "id": "39a6fa38-c0a1-46fb-921f-5db11798152c",
   "metadata": {},
   "source": [
    "## Using Fillna"
   ]
  },
  {
   "cell_type": "code",
   "execution_count": 64,
   "id": "336933f9-eb6e-4239-8ec0-189e4f03d0d7",
   "metadata": {
    "tags": []
   },
   "outputs": [
    {
     "data": {
      "text/plain": [
       "0    Category C\n",
       "Name: Category, dtype: object"
      ]
     },
     "execution_count": 64,
     "metadata": {},
     "output_type": "execute_result"
    }
   ],
   "source": [
    "df['Category'].mode()"
   ]
  },
  {
   "cell_type": "code",
   "execution_count": 65,
   "id": "c10adeb1-13ea-411d-9b66-fea4e95ea1bb",
   "metadata": {
    "tags": []
   },
   "outputs": [],
   "source": [
    "# Use fillna to replace the remaining missing values in the 'Category' column with the mode\n",
    "df['Category'].fillna(df['Category'].mode()[0], inplace=True)"
   ]
  },
  {
   "cell_type": "code",
   "execution_count": 66,
   "id": "02d0950b-48f8-4c25-a8c5-63a0d5e89c8e",
   "metadata": {
    "tags": []
   },
   "outputs": [
    {
     "data": {
      "text/plain": [
       "Category     0\n",
       "Float        9\n",
       "Integer     10\n",
       "dtype: int64"
      ]
     },
     "execution_count": 66,
     "metadata": {},
     "output_type": "execute_result"
    }
   ],
   "source": [
    "df.isnull().sum()"
   ]
  },
  {
   "cell_type": "code",
   "execution_count": 67,
   "id": "269d4dc0-bd7c-400a-9ea6-f7f7631b1e01",
   "metadata": {
    "tags": []
   },
   "outputs": [
    {
     "data": {
      "text/plain": [
       "0    14.0\n",
       "1     NaN\n",
       "2     NaN\n",
       "3    10.0\n",
       "dtype: float64"
      ]
     },
     "execution_count": 67,
     "metadata": {},
     "output_type": "execute_result"
    }
   ],
   "source": [
    "s = pd.Series([14, np.nan, np.nan, 10])\n",
    "s"
   ]
  },
  {
   "cell_type": "code",
   "execution_count": 68,
   "id": "1a22588a-c72f-4d08-933c-354a400af49f",
   "metadata": {
    "tags": []
   },
   "outputs": [
    {
     "data": {
      "text/plain": [
       "0    14.0\n",
       "1    10.0\n",
       "2    10.0\n",
       "3    10.0\n",
       "dtype: float64"
      ]
     },
     "execution_count": 68,
     "metadata": {},
     "output_type": "execute_result"
    }
   ],
   "source": [
    "# backward fill\n",
    "s.bfill()"
   ]
  },
  {
   "cell_type": "code",
   "execution_count": 70,
   "id": "1f6e5b3b-10df-435c-84a3-a5311dadda99",
   "metadata": {
    "tags": []
   },
   "outputs": [
    {
     "data": {
      "text/plain": [
       "0    14.0\n",
       "1     NaN\n",
       "2    10.0\n",
       "3     NaN\n",
       "dtype: float64"
      ]
     },
     "execution_count": 70,
     "metadata": {},
     "output_type": "execute_result"
    }
   ],
   "source": [
    "d = pd.Series([14, np.nan, 10, np.nan])\n",
    "d"
   ]
  },
  {
   "cell_type": "code",
   "execution_count": 71,
   "id": "23eba795-f009-4573-a470-c7b55a48a380",
   "metadata": {
    "tags": []
   },
   "outputs": [
    {
     "data": {
      "text/plain": [
       "0    14.0\n",
       "1    14.0\n",
       "2    10.0\n",
       "3    10.0\n",
       "dtype: float64"
      ]
     },
     "execution_count": 71,
     "metadata": {},
     "output_type": "execute_result"
    }
   ],
   "source": [
    "# backward fill \n",
    "d.ffill()"
   ]
  },
  {
   "cell_type": "code",
   "execution_count": 72,
   "id": "d5eb25e6-c799-46ec-bd81-28f1da894d33",
   "metadata": {
    "tags": []
   },
   "outputs": [],
   "source": [
    "# Use fillna to fill missing values in the DataFrame using backward fill\n",
    "df[\"Float\"].fillna(method='bfill', inplace=True)"
   ]
  },
  {
   "cell_type": "code",
   "execution_count": 73,
   "id": "ef94e8f0-8b04-4e63-a845-cad3ed792356",
   "metadata": {
    "tags": []
   },
   "outputs": [],
   "source": [
    "# replacing missing values with mean \n",
    "df[\"Integer\"].fillna(df[\"Integer\"].mean(), inplace = True)"
   ]
  },
  {
   "cell_type": "code",
   "execution_count": 74,
   "id": "503b7341-8e76-4aa4-9e8c-eb4d0222611e",
   "metadata": {
    "tags": []
   },
   "outputs": [
    {
     "data": {
      "text/plain": [
       "Category    0\n",
       "Float       0\n",
       "Integer     0\n",
       "dtype: int64"
      ]
     },
     "execution_count": 74,
     "metadata": {},
     "output_type": "execute_result"
    }
   ],
   "source": [
    "df.isnull().sum()"
   ]
  },
  {
   "cell_type": "markdown",
   "id": "35c50ae6-50cb-4f66-92c2-3673aaae4aae",
   "metadata": {},
   "source": [
    "## OutLiers"
   ]
  },
  {
   "cell_type": "code",
   "execution_count": 31,
   "id": "ba050be2-637a-4730-951d-7e259dbf1f0c",
   "metadata": {
    "tags": []
   },
   "outputs": [
    {
     "data": {
      "image/png": "[encoded data removed]",
      "text/plain": [
       "<Figure size 1000x600 with 1 Axes>"
      ]
     },
     "metadata": {},
     "output_type": "display_data"
    }
   ],
   "source": [
    "# we can use a box plot to identify outliers\n",
    "\n",
    "fig, ax = plt.subplots(ncols=1, nrows=1, figsize=(10,6))\n",
    "\n",
    "sns.boxplot(x=\"Float\", data=df, ax=ax)\n",
    "ax.set_xlabel(\"Float Values\", fontsize=15)\n",
    "ax.set_title(\"Float Values Boxplot\", fontsize=16)\n",
    "\n",
    "plt.show()\n",
    "\n",
    "fig.savefig(\"Data/images/floatOutliers.png\")"
   ]
  },
  {
   "cell_type": "markdown",
   "id": "b457b055-7a06-4325-9404-f967d8e4f7c7",
   "metadata": {},
   "source": [
    "### Using IQR to identify missing values"
   ]
  },
  {
   "cell_type": "code",
   "execution_count": 82,
   "id": "62b8ff4c-f38f-46e6-ba29-25c7202c4a6f",
   "metadata": {
    "tags": []
   },
   "outputs": [],
   "source": [
    "# get q1\n",
    "Q1 = df[\"Float\"].quantile(0.25)\n",
    "# get Q2\n",
    "Q3 = df[\"Float\"].quantile(0.75)"
   ]
  },
  {
   "cell_type": "code",
   "execution_count": 83,
   "id": "d544eef7-b97f-4af1-8c5e-600dab784d49",
   "metadata": {
    "tags": []
   },
   "outputs": [],
   "source": [
    "# get IQR range\n",
    "IQR = Q3 - Q1"
   ]
  },
  {
   "cell_type": "code",
   "execution_count": 84,
   "id": "9b1c9f0b-c0f7-4830-8dc9-a43763b599d8",
   "metadata": {
    "tags": []
   },
   "outputs": [
    {
     "data": {
      "text/plain": [
       "0     False\n",
       "1     False\n",
       "2     False\n",
       "3     False\n",
       "4     False\n",
       "      ...  \n",
       "95    False\n",
       "96    False\n",
       "97     True\n",
       "98    False\n",
       "99    False\n",
       "Name: Float, Length: 100, dtype: bool"
      ]
     },
     "execution_count": 84,
     "metadata": {},
     "output_type": "execute_result"
    }
   ],
   "source": [
    "# identify the ouliers\n",
    "out = ((df[\"Float\"] < (Q1 - 1.5 * IQR)) | (df[\"Float\"] > (Q3 + 1.5 * IQR)))\n",
    "\n",
    "out"
   ]
  },
  {
   "cell_type": "code",
   "execution_count": 87,
   "id": "72be8fea-7019-4814-ab44-242528ba6ab1",
   "metadata": {
    "tags": []
   },
   "outputs": [
    {
     "data": {
      "text/plain": [
       "[31, 37, 55, 56, 66, 77, 81, 87, 97]"
      ]
     },
     "execution_count": 87,
     "metadata": {},
     "output_type": "execute_result"
    }
   ],
   "source": [
    "outliers_index_list = list(out[out == True].index)\n",
    "outliers_index_list"
   ]
  },
  {
   "cell_type": "code",
   "execution_count": 88,
   "id": "baa4fafc-f119-47da-a6a4-aa6c7bb4c2f2",
   "metadata": {
    "tags": []
   },
   "outputs": [
    {
     "data": {
      "text/plain": [
       "9"
      ]
     },
     "execution_count": 88,
     "metadata": {},
     "output_type": "execute_result"
    }
   ],
   "source": [
    "len(outliers_list)"
   ]
  },
  {
   "cell_type": "code",
   "execution_count": 89,
   "id": "8af14044-98ce-4e4b-9f39-6ed19af6f6d5",
   "metadata": {
    "tags": []
   },
   "outputs": [
    {
     "data": {
      "text/plain": [
       "[612.3442597311596,\n",
       " 856.2225844795515,\n",
       " 431.22401275191345,\n",
       " 154.04518499573766,\n",
       " 266.3807949918212,\n",
       " 471.0484696180606,\n",
       " 653.2315416821526,\n",
       " 305.90409988176873,\n",
       " 822.4983427134217]"
      ]
     },
     "execution_count": 89,
     "metadata": {},
     "output_type": "execute_result"
    }
   ],
   "source": [
    "outliers = []\n",
    "for index in outliers_index_list:\n",
    "    outliers.append(df[\"Float\"][index])\n",
    "    \n",
    "outliers\n",
    "    "
   ]
  },
  {
   "cell_type": "code",
   "execution_count": 90,
   "id": "4d6d3e4d-8408-4b6f-9256-841a3e7dc614",
   "metadata": {
    "tags": []
   },
   "outputs": [
    {
     "data": {
      "text/plain": [
       "count    100.000000\n",
       "mean      46.125960\n",
       "std      161.891256\n",
       "min        0.000273\n",
       "25%        0.211834\n",
       "50%        0.398331\n",
       "75%        0.776397\n",
       "max      856.222584\n",
       "Name: Float, dtype: float64"
      ]
     },
     "execution_count": 90,
     "metadata": {},
     "output_type": "execute_result"
    }
   ],
   "source": [
    "df.Float.describe()"
   ]
  },
  {
   "cell_type": "code",
   "execution_count": 95,
   "id": "cb98b8c4-aa56-4bd0-8781-bb02d243687a",
   "metadata": {
    "tags": []
   },
   "outputs": [
    {
     "data": {
      "text/html": [
       "<div>\n",
       "<style scoped>\n",
       "    .dataframe tbody tr th:only-of-type {\n",
       "        vertical-align: middle;\n",
       "    }\n",
       "\n",
       "    .dataframe tbody tr th {\n",
       "        vertical-align: top;\n",
       "    }\n",
       "\n",
       "    .dataframe thead th {\n",
       "        text-align: right;\n",
       "    }\n",
       "</style>\n",
       "<table border=\"1\" class=\"dataframe\">\n",
       "  <thead>\n",
       "    <tr style=\"text-align: right;\">\n",
       "      <th></th>\n",
       "      <th>Category</th>\n",
       "      <th>Float</th>\n",
       "      <th>Integer</th>\n",
       "    </tr>\n",
       "  </thead>\n",
       "  <tbody>\n",
       "    <tr>\n",
       "      <th>31</th>\n",
       "      <td>Category A</td>\n",
       "      <td>612.344260</td>\n",
       "      <td>850.466667</td>\n",
       "    </tr>\n",
       "    <tr>\n",
       "      <th>37</th>\n",
       "      <td>Category A</td>\n",
       "      <td>856.222584</td>\n",
       "      <td>54.000000</td>\n",
       "    </tr>\n",
       "    <tr>\n",
       "      <th>55</th>\n",
       "      <td>Category A</td>\n",
       "      <td>431.224013</td>\n",
       "      <td>96.000000</td>\n",
       "    </tr>\n",
       "    <tr>\n",
       "      <th>56</th>\n",
       "      <td>Category A</td>\n",
       "      <td>154.045185</td>\n",
       "      <td>9006.000000</td>\n",
       "    </tr>\n",
       "    <tr>\n",
       "      <th>66</th>\n",
       "      <td>Category A</td>\n",
       "      <td>266.380795</td>\n",
       "      <td>63.000000</td>\n",
       "    </tr>\n",
       "    <tr>\n",
       "      <th>77</th>\n",
       "      <td>Category A</td>\n",
       "      <td>471.048470</td>\n",
       "      <td>92.000000</td>\n",
       "    </tr>\n",
       "    <tr>\n",
       "      <th>81</th>\n",
       "      <td>Category A</td>\n",
       "      <td>653.231542</td>\n",
       "      <td>93.000000</td>\n",
       "    </tr>\n",
       "    <tr>\n",
       "      <th>87</th>\n",
       "      <td>Category A</td>\n",
       "      <td>305.904100</td>\n",
       "      <td>34.000000</td>\n",
       "    </tr>\n",
       "    <tr>\n",
       "      <th>97</th>\n",
       "      <td>Category A</td>\n",
       "      <td>822.498343</td>\n",
       "      <td>850.466667</td>\n",
       "    </tr>\n",
       "  </tbody>\n",
       "</table>\n",
       "</div>"
      ],
      "text/plain": [
       "      Category       Float      Integer\n",
       "31  Category A  612.344260   850.466667\n",
       "37  Category A  856.222584    54.000000\n",
       "55  Category A  431.224013    96.000000\n",
       "56  Category A  154.045185  9006.000000\n",
       "66  Category A  266.380795    63.000000\n",
       "77  Category A  471.048470    92.000000\n",
       "81  Category A  653.231542    93.000000\n",
       "87  Category A  305.904100    34.000000\n",
       "97  Category A  822.498343   850.466667"
      ]
     },
     "execution_count": 95,
     "metadata": {},
     "output_type": "execute_result"
    }
   ],
   "source": [
    "# dataframe where column Float is considered outliers\n",
    "df[((df[\"Float\"] < (Q1 - 1.5 * IQR)) | (df[\"Float\"] > (Q3 + 1.5 * IQR)))]\n"
   ]
  },
  {
   "cell_type": "code",
   "execution_count": 94,
   "id": "6d64c31b-73c8-4899-a0a2-55f0ec23bcbb",
   "metadata": {
    "tags": []
   },
   "outputs": [
    {
     "data": {
      "text/html": [
       "<div>\n",
       "<style scoped>\n",
       "    .dataframe tbody tr th:only-of-type {\n",
       "        vertical-align: middle;\n",
       "    }\n",
       "\n",
       "    .dataframe tbody tr th {\n",
       "        vertical-align: top;\n",
       "    }\n",
       "\n",
       "    .dataframe thead th {\n",
       "        text-align: right;\n",
       "    }\n",
       "</style>\n",
       "<table border=\"1\" class=\"dataframe\">\n",
       "  <thead>\n",
       "    <tr style=\"text-align: right;\">\n",
       "      <th></th>\n",
       "      <th>Category</th>\n",
       "      <th>Float</th>\n",
       "      <th>Integer</th>\n",
       "    </tr>\n",
       "  </thead>\n",
       "  <tbody>\n",
       "    <tr>\n",
       "      <th>94</th>\n",
       "      <td>Category C</td>\n",
       "      <td>0.961967</td>\n",
       "      <td>91.0</td>\n",
       "    </tr>\n",
       "    <tr>\n",
       "      <th>95</th>\n",
       "      <td>Category C</td>\n",
       "      <td>0.261140</td>\n",
       "      <td>16.0</td>\n",
       "    </tr>\n",
       "    <tr>\n",
       "      <th>96</th>\n",
       "      <td>Category C</td>\n",
       "      <td>0.863770</td>\n",
       "      <td>6559.0</td>\n",
       "    </tr>\n",
       "    <tr>\n",
       "      <th>98</th>\n",
       "      <td>Category C</td>\n",
       "      <td>0.370902</td>\n",
       "      <td>83.0</td>\n",
       "    </tr>\n",
       "    <tr>\n",
       "      <th>99</th>\n",
       "      <td>Category C</td>\n",
       "      <td>0.671933</td>\n",
       "      <td>8928.0</td>\n",
       "    </tr>\n",
       "  </tbody>\n",
       "</table>\n",
       "</div>"
      ],
      "text/plain": [
       "      Category     Float  Integer\n",
       "94  Category C  0.961967     91.0\n",
       "95  Category C  0.261140     16.0\n",
       "96  Category C  0.863770   6559.0\n",
       "98  Category C  0.370902     83.0\n",
       "99  Category C  0.671933   8928.0"
      ]
     },
     "execution_count": 94,
     "metadata": {},
     "output_type": "execute_result"
    }
   ],
   "source": [
    "# dropping rows with outliers on the float column\n",
    "new_df = df[~((df[\"Float\"] < (Q1 - 1.5 * IQR)) | (df[\"Float\"] > (Q3 + 1.5 * IQR)))]\n",
    "\n",
    "new_df.tail()"
   ]
  },
  {
   "cell_type": "code",
   "execution_count": 99,
   "id": "deb08d2e-e5b0-4396-9575-88c376b55272",
   "metadata": {
    "tags": []
   },
   "outputs": [
    {
     "data": {
      "image/png": "[encoded data removed]",
      "text/plain": [
       "<Figure size 640x480 with 1 Axes>"
      ]
     },
     "metadata": {},
     "output_type": "display_data"
    }
   ],
   "source": [
    "sns.boxplot(x=\"Float\", data=new_df)\n",
    "\n",
    "plt.show()"
   ]
  },
  {
   "cell_type": "code",
   "execution_count": 102,
   "id": "9be4f484-5aa0-4daa-87de-2be3ac40906a",
   "metadata": {
    "tags": []
   },
   "outputs": [
    {
     "data": {
      "text/plain": [
       "[{'mean': 850.4666666666666,\n",
       "  'iqr': 60.5,\n",
       "  'cilo': 51.0015,\n",
       "  'cihi': 69.9985,\n",
       "  'whishi': 97.0,\n",
       "  'whislo': 0.0,\n",
       "  'fliers': array([7169.        ,  850.46666667, 7088.        ,  850.46666667,\n",
       "          850.46666667,  850.46666667, 7881.        ,  850.46666667,\n",
       "         9006.        , 7685.        ,  850.46666667,  850.46666667,\n",
       "          850.46666667, 5058.        , 5997.        , 7326.        ,\n",
       "          850.46666667, 6559.        ,  850.46666667, 8928.        ]),\n",
       "  'q1': 30.75,\n",
       "  'med': 60.5,\n",
       "  'q3': 91.25}]"
      ]
     },
     "execution_count": 102,
     "metadata": {},
     "output_type": "execute_result"
    }
   ],
   "source": [
    "stats = cb.boxplot_stats(df[\"Integer\"])\n",
    "stats"
   ]
  },
  {
   "cell_type": "code",
   "execution_count": null,
   "id": "c7bc05c6-1a40-41ab-bd99-5c38d39055d8",
   "metadata": {},
   "outputs": [],
   "source": []
  }
 ],
 "metadata": {
  "kernelspec": {
   "display_name": "Python 3 (ipykernel)",
   "language": "python",
   "name": "python3"
  },
  "language_info": {
   "codemirror_mode": {
    "name": "ipython",
    "version": 3
   },
   "file_extension": ".py",
   "mimetype": "text/x-python",
   "name": "python",
   "nbconvert_exporter": "python",
   "pygments_lexer": "ipython3",
   "version": "3.11.4"
  }
 },
 "nbformat": 4,
 "nbformat_minor": 5
}
