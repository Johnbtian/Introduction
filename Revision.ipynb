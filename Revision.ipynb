{
 "cells": [
  {
   "cell_type": "markdown",
   "metadata": {},
   "source": [
    "## Enumerate function\n",
    "\n",
    "* Is a function that takes the list and number them.\n",
    "* `Enumerate()` method adds a counter to an iterable list and returns it in a form of enumerating object. This enumerated object can then be used directly for loops or converted into a list of tuples using the `list()` function."
   ]
  },
  {
   "cell_type": "code",
   "execution_count": 6,
   "metadata": {},
   "outputs": [
    {
     "name": "stdout",
     "output_type": "stream",
     "text": [
      "1. Welcome to the To-Do List Manager!\n",
      "2. Add Task\n",
      "3. Mark Task as Completed\n",
      "4. List Tasks\n",
      "5. Remove Task\n",
      "6. Quit\n"
     ]
    }
   ],
   "source": [
    "# create a to-do list \n",
    "tasks = []\n",
    "\n",
    "# Create a list of options and display it make use of the enumerate function \n",
    "list_options = [\"Welcome to the To-Do List Manager!\", \"Add Task\",\"Mark Task as Completed\",  \"List Tasks\",\"Remove Task\", \"Quit\"]\n",
    "\n",
    "for j,option in enumerate(list_options, start=1):\n",
    "    print(f\"{j}. {option}\")"
   ]
  },
  {
   "cell_type": "code",
   "execution_count": 33,
   "metadata": {},
   "outputs": [
    {
     "name": "stdout",
     "output_type": "stream",
     "text": [
      "Select Option \n",
      "4\n",
      "1. Prepare breakfast\n",
      "2. Go for Hair Cut\n"
     ]
    }
   ],
   "source": [
    "# prompt the user to select an option\n",
    "user_choice = int(input(\"Select Option \\n\"))\n",
    "\n",
    "if user_choice == 2:\n",
    "    add_task = input(\"Enter task to add \\n\")\n",
    "    tasks.append(add_task)\n",
    "    #print(\"Task added\")\n",
    "\n",
    "elif user_choice == 4:\n",
    "    for j, item in enumerate(tasks, start = 1):\n",
    "        print(f\"{j}. {item}\")\n",
    "elif user_choice == 5:\n",
    "    index = int(input(\"Enter task to remove \\n\"))\n",
    "    tasks.pop(index)\n",
    "    print(\"Task Removed\")\n",
    "    \n",
    "    \"\"\"\n",
    "elif user_choice == 3:\n",
    "    # Display the current list of tasks\n",
    "    for index, task in enumerate(tasks, start=1):\n",
    "        print(f\"{index}. {task}\")\n",
    "    \n",
    "    x = int(input(\"Enter task number to mark as done\\n\"))\n",
    "\"\"\""
   ]
  },
  {
   "cell_type": "code",
   "execution_count": null,
   "metadata": {},
   "outputs": [],
   "source": []
  }
 ],
 "metadata": {
  "kernelspec": {
   "display_name": "Python 3",
   "language": "python",
   "name": "python3"
  },
  "language_info": {
   "codemirror_mode": {
    "name": "ipython",
    "version": 3
   },
   "file_extension": ".py",
   "mimetype": "text/x-python",
   "name": "python",
   "nbconvert_exporter": "python",
   "pygments_lexer": "ipython3",
   "version": "3.8.5"
  }
 },
 "nbformat": 4,
 "nbformat_minor": 4
}
