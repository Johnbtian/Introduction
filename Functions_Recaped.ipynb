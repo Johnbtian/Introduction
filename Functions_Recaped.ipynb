{
 "cells": [
  {
   "cell_type": "markdown",
   "metadata": {},
   "source": [
    "## Types of Variables\n",
    "\n",
    "Global variable ~ decleared outside the function\n",
    "Local variable ~ decleared inside the function (in the function block code)"
   ]
  },
  {
   "cell_type": "code",
   "execution_count": 2,
   "metadata": {},
   "outputs": [
    {
     "name": "stdin",
     "output_type": "stream",
     "text": [
      "Enter student name e.g. John Doe: \n",
      " Abtiano John\n"
     ]
    },
    {
     "data": {
      "text/plain": [
       "'Abtiano John'"
      ]
     },
     "execution_count": 2,
     "metadata": {},
     "output_type": "execute_result"
    }
   ],
   "source": [
    "# get student name\n",
    "def get_student_name():\n",
    "    student_name = input(\"Enter student name e.g. John Doe: \\n\")\n",
    "    return student_name\n",
    "get_student_name()"
   ]
  },
  {
   "cell_type": "code",
   "execution_count": 8,
   "metadata": {},
   "outputs": [
    {
     "name": "stdin",
     "output_type": "stream",
     "text": [
      "English score: \n",
      " 90\n",
      "Kiswahili score: \n",
      " 89\n",
      "Maths score: \n",
      " 78\n",
      "Science score: \n",
      " 83\n",
      "GHCRE score: \n",
      " 69\n"
     ]
    },
    {
     "data": {
      "text/plain": [
       "[90, 89, 78, 83, 69]"
      ]
     },
     "execution_count": 8,
     "metadata": {},
     "output_type": "execute_result"
    }
   ],
   "source": [
    "def get_scores():\n",
    "    \"\"\"Get student scores\"\"\"\n",
    "    student_scores = []\n",
    "    subjects = [\"English\", \"Kiswahili\", \"Maths\", \"Science\",\"GHCRE\"]\n",
    "    \n",
    "    for subject in subjects:\n",
    "        score = int(input(f\"{subject} score: \\n\"))\n",
    "        student_scores.append(score)\n",
    "            \n",
    "    return student_scores\n",
    "\n",
    "get_scores()"
   ]
  },
  {
   "cell_type": "code",
   "execution_count": 10,
   "metadata": {},
   "outputs": [
    {
     "name": "stdin",
     "output_type": "stream",
     "text": [
      "Enter student name e.g. John Doe: \n",
      " Sasha Jones\n",
      "English score: \n",
      " 90\n",
      "Kiswahili score: \n",
      " 89\n",
      "Maths score: \n",
      " 78\n",
      "Science score: \n",
      " 83\n",
      "GHCRE score: \n",
      " 69\n"
     ]
    },
    {
     "name": "stdout",
     "output_type": "stream",
     "text": [
      "Student name: Sasha Jones\n",
      "Student scores: [90, 89, 78, 83, 69]\n",
      "Student grades: ['A', 'B', 'C', 'B', 'D']\n",
      "Student total: 409\n"
     ]
    }
   ],
   "source": [
    "def student_performance():\n",
    "    \"\"\"\n",
    "    Fetch student name\n",
    "    Get student scores\n",
    "    Grade student scores\n",
    "    Sum the students scores\n",
    "    \n",
    "    return:\n",
    "        student name, student scores, student scores, Sum the students scores\n",
    "    \"\"\"\n",
    "    student_name = get_student_name()\n",
    "    student_scores = get_scores() #function call inside another function.\n",
    "    student_grades = []\n",
    "    # loop through the grades\n",
    "    for score in student_scores:\n",
    "        if (score >= 90) and (score <= 100):\n",
    "            grade = \"A\"\n",
    "            student_grades.append(grade)\n",
    "        elif (score >= 80) and (score < 90):\n",
    "            grade = \"B\"\n",
    "            student_grades.append(grade)\n",
    "        elif (score >= 70) and (score < 80):\n",
    "            grade = \"C\"\n",
    "            student_grades.append(grade)\n",
    "        elif (score >= 60) and (score < 70):\n",
    "            grade = \"D\"\n",
    "            student_grades.append(grade)\n",
    "        elif (score < 60) and (score >= 0):\n",
    "            grade = \"E\"\n",
    "            student_grades.append(grade)\n",
    "        else:\n",
    "            grade = \"Invalid grade\"\n",
    "            student_grades.append(None)\n",
    "            \n",
    "    total = sum(student_scores)\n",
    "    \n",
    "    return student_name, student_scores, student_grades, total\n",
    "\n",
    "student_name, student_scores, student_grades, total = student_performance() \n",
    "print(\"Student name:\", student_name)\n",
    "print(\"Student scores:\", student_scores)\n",
    "print(\"Student grades:\", student_grades)\n",
    "print(\"Student total:\", total)"
   ]
  },
  {
   "cell_type": "code",
   "execution_count": 19,
   "metadata": {},
   "outputs": [
    {
     "name": "stdin",
     "output_type": "stream",
     "text": [
      "Enter student name e.g. John Doe: \n",
      " Sasha Jones\n",
      "English score: \n",
      " 90\n",
      "Kiswahili score: \n",
      " 88\n",
      "Maths score: \n",
      " 78\n",
      "Science score: \n",
      " 83\n",
      "GHCRE score: \n",
      " 69\n",
      "Enter student name e.g. John Doe: \n",
      " Sina Ban\n",
      "English score: \n",
      " 78\n",
      "Kiswahili score: \n",
      " 65\n",
      "Maths score: \n",
      " 89\n",
      "Science score: \n",
      " 93\n",
      "GHCRE score: \n",
      " 86\n",
      "Enter student name e.g. John Doe: \n",
      " Ron Smiles\n",
      "English score: \n",
      " 98\n",
      "Kiswahili score: \n",
      " 65\n",
      "Maths score: \n",
      " 79\n",
      "Science score: \n",
      " 89\n",
      "GHCRE score: \n",
      " 84\n"
     ]
    }
   ],
   "source": [
    "# For several student\n",
    "number_of_students = 0\n",
    "Class_Performance = {\n",
    "    \"Name\": [],\n",
    "    \"English\": [],\n",
    "    \"English_grade\": [],\n",
    "    \"Kiswahili\": [],\n",
    "    \"Kiswahili_grade\": [],\n",
    "    \"Maths\": [],\n",
    "    \"Maths_grade\": [],\n",
    "    \"Science\": [],\n",
    "    \"Science_grade\": [],\n",
    "    \"GHCRE\": [],\n",
    "    \"GHCRE_grade\": [],\n",
    "    \"Total\":[]\n",
    "}\n",
    "\n",
    "while (number_of_students < 3):\n",
    "    individual_student = student_performance() # tuple\n",
    "    individual_student = list(individual_student) # to list\n",
    "    # creating key and asigning values to student list\n",
    "    Class_Performance[\"Name\"].append(individual_student[0])\n",
    "    Class_Performance[\"English\"].append(individual_student[1][0])\n",
    "    Class_Performance[\"English_grade\"].append(individual_student[2][0])\n",
    "    Class_Performance[\"Kiswahili\"].append(individual_student[1][1])\n",
    "    Class_Performance[\"Kiswahili_grade\"].append(individual_student[2][1])\n",
    "    Class_Performance[\"Maths\"] = individual_student[1][2]\n",
    "    Class_Performance[\"Maths_grade\"].append(individual_student[2][2])\n",
    "    Class_Performance[\"Science\"] = individual_student[1][3]\n",
    "    Class_Performance[\"Science_grade\"].append(individual_student[2][3])\n",
    "    Class_Performance[\"GHCRE\"] = individual_student[1][4]\n",
    "    Class_Performance[\"GHCRE_grade\"].append(individual_student[2][4])\n",
    "    Class_Performance[\"Total\"].append(individual_student[3])\n",
    "    \n",
    "    number_of_students += 1\n",
    "    "
   ]
  },
  {
   "cell_type": "code",
   "execution_count": 20,
   "metadata": {},
   "outputs": [
    {
     "name": "stdout",
     "output_type": "stream",
     "text": [
      "{'Name': ['Sasha Jones', 'Sina Ban', 'Ron Smiles'], 'English': [90, 78, 98], 'English_grade': ['A', 'C', 'A'], 'Kiswahili': [88, 65, 65], 'Kiswahili_grade': ['B', 'D', 'D'], 'Maths': 79, 'Maths_grade': ['C', 'B', 'C'], 'Science': 89, 'Science_grade': ['B', 'A', 'B'], 'GHCRE': 84, 'GHCRE_grade': ['D', 'B', 'B'], 'Total': [408, 411, 415]}\n"
     ]
    }
   ],
   "source": [
    "print(Class_Performance)"
   ]
  },
  {
   "cell_type": "code",
   "execution_count": 21,
   "metadata": {},
   "outputs": [
    {
     "data": {
      "text/html": [
       "<div>\n",
       "<style scoped>\n",
       "    .dataframe tbody tr th:only-of-type {\n",
       "        vertical-align: middle;\n",
       "    }\n",
       "\n",
       "    .dataframe tbody tr th {\n",
       "        vertical-align: top;\n",
       "    }\n",
       "\n",
       "    .dataframe thead th {\n",
       "        text-align: right;\n",
       "    }\n",
       "</style>\n",
       "<table border=\"1\" class=\"dataframe\">\n",
       "  <thead>\n",
       "    <tr style=\"text-align: right;\">\n",
       "      <th></th>\n",
       "      <th>Name</th>\n",
       "      <th>English</th>\n",
       "      <th>English_grade</th>\n",
       "      <th>Kiswahili</th>\n",
       "      <th>Kiswahili_grade</th>\n",
       "      <th>Maths</th>\n",
       "      <th>Maths_grade</th>\n",
       "      <th>Science</th>\n",
       "      <th>Science_grade</th>\n",
       "      <th>GHCRE</th>\n",
       "      <th>GHCRE_grade</th>\n",
       "      <th>Total</th>\n",
       "    </tr>\n",
       "  </thead>\n",
       "  <tbody>\n",
       "    <tr>\n",
       "      <th>0</th>\n",
       "      <td>Sasha Jones</td>\n",
       "      <td>90</td>\n",
       "      <td>A</td>\n",
       "      <td>88</td>\n",
       "      <td>B</td>\n",
       "      <td>79</td>\n",
       "      <td>C</td>\n",
       "      <td>89</td>\n",
       "      <td>B</td>\n",
       "      <td>84</td>\n",
       "      <td>D</td>\n",
       "      <td>408</td>\n",
       "    </tr>\n",
       "    <tr>\n",
       "      <th>1</th>\n",
       "      <td>Sina Ban</td>\n",
       "      <td>78</td>\n",
       "      <td>C</td>\n",
       "      <td>65</td>\n",
       "      <td>D</td>\n",
       "      <td>79</td>\n",
       "      <td>B</td>\n",
       "      <td>89</td>\n",
       "      <td>A</td>\n",
       "      <td>84</td>\n",
       "      <td>B</td>\n",
       "      <td>411</td>\n",
       "    </tr>\n",
       "    <tr>\n",
       "      <th>2</th>\n",
       "      <td>Ron Smiles</td>\n",
       "      <td>98</td>\n",
       "      <td>A</td>\n",
       "      <td>65</td>\n",
       "      <td>D</td>\n",
       "      <td>79</td>\n",
       "      <td>C</td>\n",
       "      <td>89</td>\n",
       "      <td>B</td>\n",
       "      <td>84</td>\n",
       "      <td>B</td>\n",
       "      <td>415</td>\n",
       "    </tr>\n",
       "  </tbody>\n",
       "</table>\n",
       "</div>"
      ],
      "text/plain": [
       "          Name  English English_grade  Kiswahili Kiswahili_grade  Maths  \\\n",
       "0  Sasha Jones       90             A         88               B     79   \n",
       "1     Sina Ban       78             C         65               D     79   \n",
       "2   Ron Smiles       98             A         65               D     79   \n",
       "\n",
       "  Maths_grade  Science Science_grade  GHCRE GHCRE_grade  Total  \n",
       "0           C       89             B     84           D    408  \n",
       "1           B       89             A     84           B    411  \n",
       "2           C       89             B     84           B    415  "
      ]
     },
     "execution_count": 21,
     "metadata": {},
     "output_type": "execute_result"
    }
   ],
   "source": [
    "import pandas as pd\n",
    "df = pd.DataFrame(Class_Performance)\n",
    "df"
   ]
  },
  {
   "cell_type": "code",
   "execution_count": 8,
   "metadata": {},
   "outputs": [
    {
     "data": {
      "text/plain": [
       "'\\ndef get_grade():\\n    Get user input\\n    count = 5\\n    student_scores = []\\n    subjects = [\"English\", \"Kiswahili\", \"Maths\", \"Science\",\"GHCRE\"]\\n    \\n    while (count <= 5):\\n        for subject in subjects:\\n            score = input(f\"Enter {subject} score\")\\n            student_scores.append(score)\\n            \\n    return student_scores\\n'"
      ]
     },
     "execution_count": 8,
     "metadata": {},
     "output_type": "execute_result"
    }
   ],
   "source": [
    "\"\"\"\n",
    "def get_grade():\n",
    "    Get user input\n",
    "    count = 5\n",
    "    student_scores = []\n",
    "    subjects = [\"English\", \"Kiswahili\", \"Maths\", \"Science\",\"GHCRE\"]\n",
    "    \n",
    "    while (count <= 5):\n",
    "        for subject in subjects:\n",
    "            score = input(f\"Enter {subject} score\")\n",
    "            student_scores.append(score)\n",
    "            \n",
    "    return student_scores\n",
    "\"\"\""
   ]
  },
  {
   "cell_type": "code",
   "execution_count": null,
   "metadata": {},
   "outputs": [],
   "source": []
  }
 ],
 "metadata": {
  "kernelspec": {
   "display_name": "Python 3",
   "language": "python",
   "name": "python3"
  },
  "language_info": {
   "codemirror_mode": {
    "name": "ipython",
    "version": 3
   },
   "file_extension": ".py",
   "mimetype": "text/x-python",
   "name": "python",
   "nbconvert_exporter": "python",
   "pygments_lexer": "ipython3",
   "version": "3.8.5"
  }
 },
 "nbformat": 4,
 "nbformat_minor": 4
}
