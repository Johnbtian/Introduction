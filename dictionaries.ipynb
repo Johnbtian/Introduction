{
 "cells": [
  {
   "cell_type": "markdown",
   "metadata": {},
   "source": [
    "# Dictionary\n",
    "* Data type that stores data using ```key value``` pairs.\n",
    "* Use curly brackets(```{}```) to define dictionaries in python.\n",
    "* **syntax**\n",
    "```key: value```"
   ]
  },
  {
   "cell_type": "code",
   "execution_count": 1,
   "metadata": {},
   "outputs": [
    {
     "name": "stdout",
     "output_type": "stream",
     "text": [
      "{'Name': 'John Mbiti', 'ID': 1234, 'Gender': 'Male'}\n"
     ]
    }
   ],
   "source": [
    "# Example\n",
    "\n",
    "students = {\n",
    "    \"Name\":\"John Mbiti\",\n",
    "    \"ID\": 1234,\n",
    "    \"Gender\": \"Male\"\n",
    "}\n",
    "print(students)"
   ]
  },
  {
   "cell_type": "code",
   "execution_count": 2,
   "metadata": {},
   "outputs": [
    {
     "name": "stdout",
     "output_type": "stream",
     "text": [
      "{'sky': ['Nyambane', 'Eugene', 'Yusuf'], 'friends of sky': ['Martin', 'Lumumba', 'Chemu'], 'kitchen cabinet': ['Maggy', 'Eva', 'Linda'], 'office keepers': ['kocheli', 'ngombiro', 'John']}\n"
     ]
    }
   ],
   "source": [
    "# Example 2\n",
    "\n",
    "office = {\n",
    "    \"sky\" : [\"Nyambane\",\"Eugene\",\"Yusuf\"],\n",
    "    \"friends of sky\": [\"Martin\", \"Lumumba\", \"Chemu\"],\n",
    "    \"kitchen cabinet\" : [\"Maggy\",\"Eva\",\"Linda\"],\n",
    "    \"office keepers\" : [\"kocheli\",\"ngombiro\",\"John\"]\n",
    "}\n",
    "\n",
    "print(office)"
   ]
  },
  {
   "cell_type": "markdown",
   "metadata": {},
   "source": [
    "1. Keys of a Dictionary\n",
    "```Syntax: dic_name.keys()```"
   ]
  },
  {
   "cell_type": "code",
   "execution_count": 3,
   "metadata": {},
   "outputs": [
    {
     "data": {
      "text/plain": [
       "dict_keys(['sky', 'friends of sky', 'kitchen cabinet', 'office keepers'])"
      ]
     },
     "execution_count": 3,
     "metadata": {},
     "output_type": "execute_result"
    }
   ],
   "source": [
    "# keys of the Dictionary \n",
    "\n",
    "office.keys()"
   ]
  },
  {
   "cell_type": "markdown",
   "metadata": {},
   "source": [
    "2. Access values in a dictionary using keys\n",
    " ``` syntax : disctionary_name[key]```"
   ]
  },
  {
   "cell_type": "code",
   "execution_count": 5,
   "metadata": {},
   "outputs": [
    {
     "name": "stdout",
     "output_type": "stream",
     "text": [
      "['kocheli', 'ngombiro', 'John']\n",
      "['Nyambane', 'Eugene', 'Yusuf']\n"
     ]
    }
   ],
   "source": [
    "# Example ~office keepers ~sky\n",
    "print(office['office keepers'])\n",
    "print(office['sky'])"
   ]
  },
  {
   "cell_type": "markdown",
   "metadata": {},
   "source": [
    "3. Adding to a dictionary using append\n",
    "```syntax : \n",
    "dic_name[key].append(\"value\")```"
   ]
  },
  {
   "cell_type": "code",
   "execution_count": 6,
   "metadata": {},
   "outputs": [
    {
     "name": "stdout",
     "output_type": "stream",
     "text": [
      "['Nyambane', 'Eugene', 'Yusuf', 'kirui']\n"
     ]
    }
   ],
   "source": [
    "# Example\n",
    "\n",
    "office['sky'].append(\"kirui\")\n",
    "\n",
    "print(office['sky'])"
   ]
  },
  {
   "cell_type": "markdown",
   "metadata": {},
   "source": [
    "4. Displaying an item in a dictionary\n",
    "```syntax:\n",
    "dic_name[key][index]```"
   ]
  },
  {
   "cell_type": "code",
   "execution_count": 7,
   "metadata": {},
   "outputs": [
    {
     "name": "stdout",
     "output_type": "stream",
     "text": [
      "John\n"
     ]
    }
   ],
   "source": [
    "# Exaple 3: \n",
    "print(office['office keepers'][2])"
   ]
  },
  {
   "cell_type": "markdown",
   "metadata": {},
   "source": [
    "**Nested Dictionary**\n"
   ]
  },
  {
   "cell_type": "code",
   "execution_count": 9,
   "metadata": {},
   "outputs": [],
   "source": [
    "# Example\n",
    "\n",
    "menu = {\n",
    "    \"Breakfast\" :{\"Bevarages\": {\n",
    "        \"Tea\" : [\"Masala\",\"Ginger\",\"Caramel\"],\n",
    "        \"Coffee\": [\"Black\",\"white\",\"Latte\"],\n",
    "        \"Cocoa\" : [\"hot chocolate\", \"free range\"]\n",
    "    },\n",
    "                  \"accompaniment\" : {\n",
    "                        \"wings\" : [\"hot wings\",\"spicy\",\"lemon and herbs\"],\n",
    "                        \"kienyeji\" : [\"nduma\",\"nduashe\",\"cassava\"] \n",
    "      },\n",
    "                 },\n",
    "    \"lunch\" : {\n",
    "        \"carbohydrates\" : [\"ugali\", \"mokimo\", \"rice\"],\n",
    "        \"vegs\" : [\"sukuma\", \"cabbage\"],\n",
    "        \"proteins\" : [\"chicken\", \"fish\", \"mutton\"]\n",
    "    } \n",
    "}"
   ]
  },
  {
   "cell_type": "code",
   "execution_count": 10,
   "metadata": {},
   "outputs": [
    {
     "name": "stdout",
     "output_type": "stream",
     "text": [
      "{'Breakfast': {'Bevarages': {'Tea': ['Masala', 'Ginger', 'Caramel'], 'Coffee': ['Black', 'white', 'Latte'], 'Cocoa': ['hot chocolate', 'free range']}, 'accompaniment': {'wings': ['hot wings', 'spicy', 'lemon and herbs'], 'kienyeji': ['nduma', 'nduashe', 'cassava']}}, 'lunch': {'carbohydrates': ['ugali', 'mokimo', 'rice'], 'vegs': ['sukuma', 'cabbage'], 'proteins': ['chicken', 'fish', 'mutton']}}\n"
     ]
    }
   ],
   "source": [
    "print(menu)"
   ]
  },
  {
   "cell_type": "code",
   "execution_count": 13,
   "metadata": {},
   "outputs": [
    {
     "name": "stdout",
     "output_type": "stream",
     "text": [
      "John will take Caramel with hot wings and ugali \n"
     ]
    }
   ],
   "source": [
    "print(f\"John will take {menu['Breakfast']['Bevarages']['Tea'][2]} with {menu['Breakfast']['accompaniment']['wings'][0]} and {menu['lunch']['carbohydrates'][0]} \" )"
   ]
  },
  {
   "cell_type": "code",
   "execution_count": 19,
   "metadata": {},
   "outputs": [
    {
     "name": "stdout",
     "output_type": "stream",
     "text": [
      "John will take the following for breakfast:\n",
      "\t* Caramel\n",
      "\t* hot wings \n",
      " Lunch:\n",
      "\t* ugali\n",
      "\t* chicken\n",
      "\t* cabbage\n"
     ]
    }
   ],
   "source": [
    "print(f\"John will take the following for breakfast:\\n\\t* {menu['Breakfast']['Bevarages']['Tea'][2]}\\n\\t* {menu['Breakfast']['accompaniment']['wings'][0]} \\n Lunch:\\n\\t* {menu['lunch']['carbohydrates'][0]}\\n\\t* {menu['lunch']['proteins'][0]}\\n\\t* {menu['lunch']['vegs'][1]}\" )"
   ]
  },
  {
   "cell_type": "code",
   "execution_count": null,
   "metadata": {},
   "outputs": [],
   "source": []
  }
 ],
 "metadata": {
  "kernelspec": {
   "display_name": "Python 3",
   "language": "python",
   "name": "python3"
  },
  "language_info": {
   "codemirror_mode": {
    "name": "ipython",
    "version": 3
   },
   "file_extension": ".py",
   "mimetype": "text/x-python",
   "name": "python",
   "nbconvert_exporter": "python",
   "pygments_lexer": "ipython3",
   "version": "3.8.5"
  }
 },
 "nbformat": 4,
 "nbformat_minor": 4
}
