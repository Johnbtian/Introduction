{
 "cells": [
  {
   "cell_type": "markdown",
   "metadata": {},
   "source": [
    "# Introduction to Pandas Series and DataFrames"
   ]
  },
  {
   "cell_type": "markdown",
   "metadata": {},
   "source": [
    "## Objectives"
   ]
  },
  {
   "cell_type": "markdown",
   "metadata": {},
   "source": [
    "* Understand Pandas Series and DataFrames\n",
    "* Creating Series and DataFrames\n",
    "* Basic Operations with Series \n",
    "* Exploring DataFrame Basics\n",
    "* Selecting Data from DataFrames\n",
    "* Applying Functions to Series and DataFrames"
   ]
  },
  {
   "cell_type": "markdown",
   "metadata": {},
   "source": [
    "## Loading Libraries"
   ]
  },
  {
   "cell_type": "code",
   "execution_count": 1,
   "metadata": {},
   "outputs": [],
   "source": [
    "# numpys - for arithmetic operations and high-level mathematical functions to operate on arrays\n",
    "import numpy as np\n",
    "# pandas - for working with relational or labeled data\n",
    "import pandas as pd "
   ]
  },
  {
   "cell_type": "markdown",
   "metadata": {},
   "source": [
    "## What is a Pandas Series?"
   ]
  },
  {
   "cell_type": "markdown",
   "metadata": {},
   "source": [
    "* **One-Dimensional** labeled Array capable of holding data on any type such as *intergers*, *string*, *float*, *python objects* etc.\n",
    "* A pandas series is like a column in a table.\n"
   ]
  },
  {
   "cell_type": "markdown",
   "metadata": {},
   "source": [
    "### Key features of a Pandas Series"
   ]
  },
  {
   "cell_type": "markdown",
   "metadata": {},
   "source": [
    "* **Homogeneous Data**: A Series Holds Data of a single data type(integer, float, string etc), ensuring homogeneity within the Series.\n",
    "* **Labeled Index**: Each element in a Series is associated with a label called an *index*. Having unique labels is a common practice, though not strictly required. The labels just need to be hashable types, ie they need to be used as keys in a dictionary. This index allows for easy and efficient data retrieval and manipulation.\n",
    "* **Vectorized Operations**: - Series support vectorized operations, ie you can apply operations to the entire series without the need for explicit loops.\n",
    "* **Alignment of Data**: - When performing operations on a Series, Pandas automatically aligns data based on index labels, which simplifies data manipulation.\n",
    "* **Creation**: - Can be created from a List, NumpyArrays, Dictionary, DataFrame slice and other data sources. "
   ]
  },
  {
   "cell_type": "code",
   "execution_count": 2,
   "metadata": {},
   "outputs": [
    {
     "data": {
      "text/plain": [
       "0    10\n",
       "1    20\n",
       "2    33\n",
       "3    42\n",
       "4    19\n",
       "5    30\n",
       "dtype: int64"
      ]
     },
     "execution_count": 2,
     "metadata": {},
     "output_type": "execute_result"
    }
   ],
   "source": [
    "# example of a series from a list \n",
    "marks = [10, 20, 33, 42, 19, 30]\n",
    "\n",
    "# series\n",
    "marks_series = pd.Series(marks)\n",
    "marks_series"
   ]
  },
  {
   "cell_type": "markdown",
   "metadata": {},
   "source": [
    "## Creating and Displaying"
   ]
  },
  {
   "cell_type": "code",
   "execution_count": 3,
   "metadata": {},
   "outputs": [
    {
     "data": {
      "text/plain": [
       "0    10.5\n",
       "1    11.2\n",
       "2    10.7\n",
       "3     9.9\n",
       "4    10.2\n",
       "Name: Student Marks, dtype: float64"
      ]
     },
     "execution_count": 3,
     "metadata": {},
     "output_type": "execute_result"
    }
   ],
   "source": [
    "# example 1 - Creating a series from a list\n",
    "data = [10.5, 11.2, 10.7, 9.9, 10.2]\n",
    "\n",
    "# series\n",
    "list_series = pd.Series(data, name=\"Student Marks\")\n",
    "list_series"
   ]
  },
  {
   "cell_type": "code",
   "execution_count": 4,
   "metadata": {},
   "outputs": [
    {
     "data": {
      "text/plain": [
       "pandas.core.series.Series"
      ]
     },
     "execution_count": 4,
     "metadata": {},
     "output_type": "execute_result"
    }
   ],
   "source": [
    "# data type \n",
    "type(list_series)"
   ]
  },
  {
   "cell_type": "code",
   "execution_count": 5,
   "metadata": {},
   "outputs": [
    {
     "data": {
      "text/plain": [
       "numpy.ndarray"
      ]
     },
     "execution_count": 5,
     "metadata": {},
     "output_type": "execute_result"
    }
   ],
   "source": [
    "# example 2 - Creating a series from a NumPy Array\n",
    "data_arr = np.array(data) # created an array from a list\n",
    "\n",
    "type(data_arr)"
   ]
  },
  {
   "cell_type": "code",
   "execution_count": 6,
   "metadata": {},
   "outputs": [
    {
     "data": {
      "text/plain": [
       "0    10.5\n",
       "1    11.2\n",
       "2    10.7\n",
       "3     9.9\n",
       "4    10.2\n",
       "Name: Array Series, dtype: float64"
      ]
     },
     "execution_count": 6,
     "metadata": {},
     "output_type": "execute_result"
    }
   ],
   "source": [
    "# series from array\n",
    "arr_series = pd.Series(data_arr, name=\"Array Series\")\n",
    "arr_series"
   ]
  },
  {
   "cell_type": "code",
   "execution_count": 7,
   "metadata": {},
   "outputs": [
    {
     "data": {
      "text/plain": [
       "dict"
      ]
     },
     "execution_count": 7,
     "metadata": {},
     "output_type": "execute_result"
    }
   ],
   "source": [
    "# example 3 - Series dictionary \n",
    "data_dict = {\n",
    "    \"Prof\" : 100,\n",
    "    \"Dominic\" : 250,\n",
    "    \"Carol\" : 300, \n",
    "    \"Eve\" : 450\n",
    "}\n",
    "\n",
    "type(data_dict)"
   ]
  },
  {
   "cell_type": "code",
   "execution_count": 22,
   "metadata": {},
   "outputs": [
    {
     "data": {
      "text/plain": [
       "dict_keys(['Prof', 'Dominic', 'Carol', 'Eve'])"
      ]
     },
     "execution_count": 22,
     "metadata": {},
     "output_type": "execute_result"
    }
   ],
   "source": [
    "data_dict.keys()"
   ]
  },
  {
   "cell_type": "code",
   "execution_count": 8,
   "metadata": {},
   "outputs": [
    {
     "data": {
      "text/plain": [
       "Prof       100\n",
       "Dominic    250\n",
       "Carol      300\n",
       "Eve        450\n",
       "Name: Sky Team, dtype: int64"
      ]
     },
     "execution_count": 8,
     "metadata": {},
     "output_type": "execute_result"
    }
   ],
   "source": [
    "# series from dict\n",
    "dict_series = pd.Series(data_dict, name=\"Sky Team\")\n",
    "dict_series"
   ]
  },
  {
   "cell_type": "code",
   "execution_count": 9,
   "metadata": {},
   "outputs": [
    {
     "data": {
      "text/plain": [
       "A    1000\n",
       "B    1500\n",
       "C    2000\n",
       "D    4000\n",
       "Name: Balances, dtype: int64"
      ]
     },
     "execution_count": 9,
     "metadata": {},
     "output_type": "execute_result"
    }
   ],
   "source": [
    "# series with custom index labels\n",
    "balance = [1000, 1500, 2000, 4000] # data to store in the series\n",
    "custom_labels = ['A', 'B', 'C', 'D'] # custom indexes\n",
    "\n",
    "custom_label_series = pd.Series(data = balance, index=custom_labels, name='Balances')\n",
    "custom_label_series"
   ]
  },
  {
   "cell_type": "markdown",
   "metadata": {},
   "source": [
    "## Basic Operations With Series"
   ]
  },
  {
   "cell_type": "code",
   "execution_count": 10,
   "metadata": {},
   "outputs": [
    {
     "data": {
      "text/plain": [
       "0    10.5\n",
       "1    11.2\n",
       "2    10.7\n",
       "3     9.9\n",
       "4    10.2\n",
       "Name: Array Series, dtype: float64"
      ]
     },
     "execution_count": 10,
     "metadata": {},
     "output_type": "execute_result"
    }
   ],
   "source": [
    "arr_series"
   ]
  },
  {
   "cell_type": "code",
   "execution_count": 11,
   "metadata": {},
   "outputs": [
    {
     "name": "stdout",
     "output_type": "stream",
     "text": [
      "9.9\n"
     ]
    }
   ],
   "source": [
    "# accessing elements in a series \n",
    "print(arr_series[3])"
   ]
  },
  {
   "cell_type": "code",
   "execution_count": 12,
   "metadata": {},
   "outputs": [
    {
     "data": {
      "text/plain": [
       "Prof       100\n",
       "Dominic    250\n",
       "Carol      300\n",
       "Eve        450\n",
       "Name: Sky Team, dtype: int64"
      ]
     },
     "execution_count": 12,
     "metadata": {},
     "output_type": "execute_result"
    }
   ],
   "source": [
    "dict_series"
   ]
  },
  {
   "cell_type": "code",
   "execution_count": 13,
   "metadata": {},
   "outputs": [
    {
     "name": "stdout",
     "output_type": "stream",
     "text": [
      "300\n"
     ]
    }
   ],
   "source": [
    "# accessing elements in a series \n",
    "print(dict_series['Carol'])"
   ]
  },
  {
   "cell_type": "code",
   "execution_count": 14,
   "metadata": {},
   "outputs": [
    {
     "data": {
      "text/plain": [
       "A    1000\n",
       "B    1500\n",
       "C    2000\n",
       "D    4000\n",
       "Name: Balances, dtype: int64"
      ]
     },
     "execution_count": 14,
     "metadata": {},
     "output_type": "execute_result"
    }
   ],
   "source": [
    "custom_label_series"
   ]
  },
  {
   "cell_type": "code",
   "execution_count": 15,
   "metadata": {},
   "outputs": [
    {
     "name": "stdout",
     "output_type": "stream",
     "text": [
      "B    1500\n",
      "C    2000\n",
      "D    4000\n",
      "Name: Balances, dtype: int64\n"
     ]
    }
   ],
   "source": [
    "# accessing elemets in a series\n",
    "print(custom_label_series['B':'D'])"
   ]
  },
  {
   "cell_type": "code",
   "execution_count": 16,
   "metadata": {},
   "outputs": [
    {
     "data": {
      "text/plain": [
       "A    10.0\n",
       "B    15.0\n",
       "C    20.0\n",
       "D    40.0\n",
       "Name: Balances, dtype: float64"
      ]
     },
     "execution_count": 16,
     "metadata": {},
     "output_type": "execute_result"
    }
   ],
   "source": [
    "# arithmetic operations\n",
    "# convert balances into percentages \n",
    "x = custom_label_series / 100\n",
    "x"
   ]
  },
  {
   "cell_type": "code",
   "execution_count": 17,
   "metadata": {},
   "outputs": [
    {
     "data": {
      "text/plain": [
       "B    15.0\n",
       "C    20.0\n",
       "D    40.0\n",
       "Name: Balances, dtype: float64"
      ]
     },
     "execution_count": 17,
     "metadata": {},
     "output_type": "execute_result"
    }
   ],
   "source": [
    "# filter elements \n",
    "x_filtered = x[x >= 15]\n",
    "x_filtered"
   ]
  },
  {
   "cell_type": "code",
   "execution_count": 18,
   "metadata": {},
   "outputs": [
    {
     "data": {
      "text/plain": [
       "A    10.0\n",
       "B    15.0\n",
       "C    20.0\n",
       "D    40.0\n",
       "Name: Balances, dtype: float64"
      ]
     },
     "execution_count": 18,
     "metadata": {},
     "output_type": "execute_result"
    }
   ],
   "source": [
    "# basic summary statistics\n",
    "x"
   ]
  },
  {
   "cell_type": "code",
   "execution_count": 19,
   "metadata": {},
   "outputs": [
    {
     "name": "stdout",
     "output_type": "stream",
     "text": [
      "21.25\n"
     ]
    }
   ],
   "source": [
    "# mean \n",
    "mean = x.mean()\n",
    "print(mean)"
   ]
  },
  {
   "cell_type": "code",
   "execution_count": 20,
   "metadata": {},
   "outputs": [
    {
     "name": "stdout",
     "output_type": "stream",
     "text": [
      "13.149778198382917\n"
     ]
    }
   ],
   "source": [
    "# std \n",
    "std = x.std()\n",
    "print(std)"
   ]
  },
  {
   "cell_type": "code",
   "execution_count": 21,
   "metadata": {},
   "outputs": [
    {
     "name": "stdout",
     "output_type": "stream",
     "text": [
      "40.0\n"
     ]
    }
   ],
   "source": [
    "# max\n",
    "max = x.max()\n",
    "print(max)"
   ]
  },
  {
   "cell_type": "markdown",
   "metadata": {},
   "source": [
    "## Applying Functions to a Series "
   ]
  },
  {
   "cell_type": "markdown",
   "metadata": {},
   "source": [
    "### Lambda Functions"
   ]
  },
  {
   "cell_type": "markdown",
   "metadata": {},
   "source": [
    "* Small anonymous function that is not bound to an identifier.\n",
    "* Similar to user defined functions but without a name.\n",
    "* It's simple and straightfoward, requiring only the argument(s) and expression, alongside the keyword `lambda`.\n",
    "* They require only one line of code.\n",
    "\n",
    "```\n",
    "def func_name(parameters):\n",
    "    code block\n",
    "    \n",
    "    return return_value\n",
    "```\n",
    "\n",
    "`func = lamda parameters: return_value`\n",
    "\n",
    "* `lambda` : Keyword that indicates definition of a lambda function.\n",
    "* `parameters`: The input parameters that the lambda function will take.\n",
    "* `return_value`: A single expression that defines the compuation the lambda function performs and its return value "
   ]
  },
  {
   "cell_type": "code",
   "execution_count": 24,
   "metadata": {},
   "outputs": [
    {
     "data": {
      "text/plain": [
       "100"
      ]
     },
     "execution_count": 24,
     "metadata": {},
     "output_type": "execute_result"
    }
   ],
   "source": [
    "# lets compare the two\n",
    "# a function to square 2 numbers\n",
    "def square_numbers(a):\n",
    "    \"\"\"Function to square numbers\"\"\"\n",
    "    value = a**2\n",
    "\n",
    "    return value\n",
    "\n",
    "square_numbers(10)"
   ]
  },
  {
   "cell_type": "code",
   "execution_count": 25,
   "metadata": {},
   "outputs": [
    {
     "data": {
      "text/plain": [
       "25"
      ]
     },
     "execution_count": 25,
     "metadata": {},
     "output_type": "execute_result"
    }
   ],
   "source": [
    "# lamda function\n",
    "square_lambda = lambda x: x**2\n",
    "square_lambda(5)"
   ]
  },
  {
   "cell_type": "code",
   "execution_count": 31,
   "metadata": {},
   "outputs": [
    {
     "data": {
      "text/plain": [
       "'Hello World!'"
      ]
     },
     "execution_count": 31,
     "metadata": {},
     "output_type": "execute_result"
    }
   ],
   "source": [
    "# original\n",
    "def print_hello():\n",
    "    y = 'Hello World!'\n",
    "    \n",
    "    return y\n",
    "print_hello()"
   ]
  },
  {
   "cell_type": "code",
   "execution_count": 30,
   "metadata": {},
   "outputs": [
    {
     "data": {
      "text/plain": [
       "'Hello World!'"
      ]
     },
     "execution_count": 30,
     "metadata": {},
     "output_type": "execute_result"
    }
   ],
   "source": [
    "# labda function\n",
    "y_lmbda = lambda : 'Hello World!'\n",
    "y_lmbda()"
   ]
  },
  {
   "cell_type": "code",
   "execution_count": 33,
   "metadata": {},
   "outputs": [
    {
     "data": {
      "text/plain": [
       "'Odd'"
      ]
     },
     "execution_count": 33,
     "metadata": {},
     "output_type": "execute_result"
    }
   ],
   "source": [
    "def even_odd(number:int):\n",
    "    if (number % 2 == 0):\n",
    "        return 'Even'\n",
    "    else:\n",
    "        return 'Odd'\n",
    "even_odd(7)"
   ]
  },
  {
   "cell_type": "code",
   "execution_count": 34,
   "metadata": {},
   "outputs": [
    {
     "data": {
      "text/plain": [
       "'Odd'"
      ]
     },
     "execution_count": 34,
     "metadata": {},
     "output_type": "execute_result"
    }
   ],
   "source": [
    "even_odd_number = lambda number: 'Even' if number % 2 == 0 else 'Odd'\n",
    "even_odd_number(7)"
   ]
  },
  {
   "cell_type": "code",
   "execution_count": 35,
   "metadata": {},
   "outputs": [
    {
     "data": {
      "text/plain": [
       "'9 is an Odd number'"
      ]
     },
     "execution_count": 35,
     "metadata": {},
     "output_type": "execute_result"
    }
   ],
   "source": [
    "even_odd_number1 = lambda number: f\"{number} is an Even number\" if number % 2 == 0 else f\"{number} is an Odd number\"\n",
    "even_odd_number1(9)"
   ]
  },
  {
   "cell_type": "markdown",
   "metadata": {},
   "source": [
    "### Generate Random Numbers"
   ]
  },
  {
   "cell_type": "markdown",
   "metadata": {},
   "source": [
    "* Using `NumPy` library to generate random Numbers.\n"
   ]
  },
  {
   "cell_type": "code",
   "execution_count": 36,
   "metadata": {},
   "outputs": [],
   "source": [
    "# generate random numbers ~using random class(same features)\n",
    "my_numbers = np.random.randint(3, 99, size = 120)"
   ]
  },
  {
   "cell_type": "code",
   "execution_count": 37,
   "metadata": {},
   "outputs": [
    {
     "data": {
      "text/plain": [
       "array([60, 97, 43, 90, 71, 77, 20, 95, 88, 80, 12,  7, 49, 71, 73, 28,  3,\n",
       "       44, 88, 49, 31, 57, 71, 28, 39, 58, 43, 96, 94, 77, 67, 12, 19, 20,\n",
       "       44, 77, 80, 57, 35, 57, 53, 37, 97, 47, 52, 68, 48, 68, 21, 48, 55,\n",
       "       62, 54, 11, 55, 15, 48, 41, 69, 37, 68, 12, 12, 24, 66, 76, 31, 55,\n",
       "       20, 46, 63, 37, 49, 78, 81, 17, 48, 32, 67, 59, 87, 28, 44, 90, 21,\n",
       "       75, 14, 61, 11, 38, 46, 26, 24, 21, 88, 37, 76, 90, 85, 87, 59, 48,\n",
       "       58, 32, 39,  7, 16, 80, 67, 41, 68, 39,  3, 89, 62, 40, 27, 34, 91,\n",
       "       90])"
      ]
     },
     "execution_count": 37,
     "metadata": {},
     "output_type": "execute_result"
    }
   ],
   "source": [
    "# display random numbers \n",
    "my_numbers"
   ]
  },
  {
   "cell_type": "code",
   "execution_count": 38,
   "metadata": {},
   "outputs": [
    {
     "data": {
      "text/plain": [
       "0      60\n",
       "1      97\n",
       "2      43\n",
       "3      90\n",
       "4      71\n",
       "       ..\n",
       "115    40\n",
       "116    27\n",
       "117    34\n",
       "118    91\n",
       "119    90\n",
       "Name: Numbers, Length: 120, dtype: int32"
      ]
     },
     "execution_count": 38,
     "metadata": {},
     "output_type": "execute_result"
    }
   ],
   "source": [
    "# create a series \n",
    "my_numbers_ser = pd.Series(my_numbers, name=\"Numbers\")\n",
    "my_numbers_ser "
   ]
  },
  {
   "cell_type": "code",
   "execution_count": 39,
   "metadata": {},
   "outputs": [
    {
     "data": {
      "text/plain": [
       "0    60\n",
       "1    97\n",
       "2    43\n",
       "3    90\n",
       "4    71\n",
       "Name: Numbers, dtype: int32"
      ]
     },
     "execution_count": 39,
     "metadata": {},
     "output_type": "execute_result"
    }
   ],
   "source": [
    "# display the first five rows of the series\n",
    "my_numbers_ser.head()"
   ]
  },
  {
   "cell_type": "code",
   "execution_count": 40,
   "metadata": {
    "scrolled": true
   },
   "outputs": [
    {
     "data": {
      "text/plain": [
       "115    40\n",
       "116    27\n",
       "117    34\n",
       "118    91\n",
       "119    90\n",
       "Name: Numbers, dtype: int32"
      ]
     },
     "execution_count": 40,
     "metadata": {},
     "output_type": "execute_result"
    }
   ],
   "source": [
    "# display last five rows\n",
    "my_numbers_ser.tail()"
   ]
  },
  {
   "cell_type": "code",
   "execution_count": 41,
   "metadata": {},
   "outputs": [
    {
     "data": {
      "text/plain": [
       "113    89\n",
       "114    62\n",
       "115    40\n",
       "116    27\n",
       "117    34\n",
       "118    91\n",
       "119    90\n",
       "Name: Numbers, dtype: int32"
      ]
     },
     "execution_count": 41,
     "metadata": {},
     "output_type": "execute_result"
    }
   ],
   "source": [
    "# display last 7 rows\n",
    "my_numbers_ser.tail(7)"
   ]
  },
  {
   "cell_type": "markdown",
   "metadata": {},
   "source": [
    "### Using the `apply()` Function in a Series\n",
    "\n",
    "* It's a powerful way to transform and analyze the data within the series.\n",
    "* Above we have generate a series of random numbers, and created a function called `square` that takes in an int, squares it and return the value. Lets apply that function to the series."
   ]
  },
  {
   "cell_type": "code",
   "execution_count": 43,
   "metadata": {},
   "outputs": [
    {
     "data": {
      "text/plain": [
       "115    1600\n",
       "116     729\n",
       "117    1156\n",
       "118    8281\n",
       "119    8100\n",
       "Name: Numbers, dtype: int64"
      ]
     },
     "execution_count": 43,
     "metadata": {},
     "output_type": "execute_result"
    }
   ],
   "source": [
    "# square the series random numbers \n",
    "squared_numbers = my_numbers_ser.apply(square_numbers)\n",
    "squared_numbers.tail()"
   ]
  },
  {
   "cell_type": "code",
   "execution_count": 45,
   "metadata": {},
   "outputs": [
    {
     "data": {
      "text/plain": [
       "0    3600\n",
       "1    9409\n",
       "2    1849\n",
       "3    8100\n",
       "4    5041\n",
       "Name: Squared Numbers, dtype: int64"
      ]
     },
     "execution_count": 45,
     "metadata": {},
     "output_type": "execute_result"
    }
   ],
   "source": [
    "# use .rename to rename the series\n",
    "# inplace = True makes the changes permanent\n",
    "squared_numbers.rename('Squared Numbers', inplace=True)\n",
    "squared_numbers.head()"
   ]
  },
  {
   "cell_type": "markdown",
   "metadata": {},
   "source": [
    "### `lambda` function with `apply()`"
   ]
  },
  {
   "cell_type": "code",
   "execution_count": 47,
   "metadata": {},
   "outputs": [
    {
     "data": {
      "text/plain": [
       "0    216000\n",
       "1    912673\n",
       "2     79507\n",
       "3    729000\n",
       "4    357911\n",
       "Name: Numbers, dtype: int64"
      ]
     },
     "execution_count": 47,
     "metadata": {},
     "output_type": "execute_result"
    }
   ],
   "source": [
    "# Cube the numbers using lambda and apply\n",
    "cubed_numbers = my_numbers_ser.apply(lambda j: j**3)\n",
    "cubed_numbers.head()"
   ]
  },
  {
   "cell_type": "code",
   "execution_count": 48,
   "metadata": {},
   "outputs": [
    {
     "data": {
      "text/plain": [
       "0    216000\n",
       "1    912673\n",
       "2     79507\n",
       "3    729000\n",
       "4    357911\n",
       "Name: Cubed Numbers, dtype: int64"
      ]
     },
     "execution_count": 48,
     "metadata": {},
     "output_type": "execute_result"
    }
   ],
   "source": [
    "# rename the series\n",
    "cubed_numbers.rename(\"Cubed Numbers\", inplace=True)\n",
    "cubed_numbers.head()"
   ]
  },
  {
   "cell_type": "markdown",
   "metadata": {},
   "source": [
    "### Using the `map()` Function in a series"
   ]
  },
  {
   "cell_type": "markdown",
   "metadata": {},
   "source": [
    "* Used to substitute each value in a Series with another value creating a convenient way to transform the values in a Series."
   ]
  },
  {
   "cell_type": "code",
   "execution_count": 49,
   "metadata": {},
   "outputs": [
    {
     "data": {
      "text/plain": [
       "'Underweight'"
      ]
     },
     "execution_count": 49,
     "metadata": {},
     "output_type": "execute_result"
    }
   ],
   "source": [
    "def bmi_value(x):\n",
    "    if (x <= 43):\n",
    "        return 'Underweight'\n",
    "    else:\n",
    "        return 'Overweight'\n",
    "bmi_value(20)"
   ]
  },
  {
   "cell_type": "code",
   "execution_count": 51,
   "metadata": {},
   "outputs": [
    {
     "data": {
      "text/plain": [
       "0     Overweight\n",
       "1     Overweight\n",
       "2    Underweight\n",
       "3     Overweight\n",
       "4     Overweight\n",
       "5     Overweight\n",
       "6    Underweight\n",
       "7     Overweight\n",
       "8     Overweight\n",
       "9     Overweight\n",
       "Name: Numbers, dtype: object"
      ]
     },
     "execution_count": 51,
     "metadata": {},
     "output_type": "execute_result"
    }
   ],
   "source": [
    "# map our random numbers as underweight or overweight\n",
    "bmi_series = my_numbers_ser.map(bmi_value)\n",
    "bmi_series.head(10)"
   ]
  },
  {
   "cell_type": "code",
   "execution_count": 53,
   "metadata": {},
   "outputs": [
    {
     "data": {
      "text/plain": [
       "0     Overweight\n",
       "1     Overweight\n",
       "2    Underweight\n",
       "3     Overweight\n",
       "4     Overweight\n",
       "Name: BMI, dtype: object"
      ]
     },
     "execution_count": 53,
     "metadata": {},
     "output_type": "execute_result"
    }
   ],
   "source": [
    "bmi_series.rename(\"BMI\", inplace=True)\n",
    "bmi_series.head()"
   ]
  },
  {
   "cell_type": "markdown",
   "metadata": {},
   "source": [
    "### `lambda` function with `map()`"
   ]
  },
  {
   "cell_type": "code",
   "execution_count": 54,
   "metadata": {},
   "outputs": [
    {
     "data": {
      "text/plain": [
       "0    120\n",
       "1    194\n",
       "2     86\n",
       "3    180\n",
       "4    142\n",
       "Name: Numbers, dtype: int64"
      ]
     },
     "execution_count": 54,
     "metadata": {},
     "output_type": "execute_result"
    }
   ],
   "source": [
    "# use lamda function with map() to double each number\n",
    "double_number = my_numbers_ser.map(lambda y: y*2)\n",
    "double_number.head()"
   ]
  },
  {
   "cell_type": "code",
   "execution_count": 55,
   "metadata": {},
   "outputs": [
    {
     "data": {
      "text/plain": [
       "0    120\n",
       "1    194\n",
       "2     86\n",
       "3    180\n",
       "4    142\n",
       "Name: Double Number, dtype: int64"
      ]
     },
     "execution_count": 55,
     "metadata": {},
     "output_type": "execute_result"
    }
   ],
   "source": [
    "# rename the series\n",
    "double_number.rename('Double Number', inplace=True)\n",
    "double_number.head()"
   ]
  },
  {
   "cell_type": "markdown",
   "metadata": {},
   "source": [
    "### `lamda` function with Conditional Statement"
   ]
  },
  {
   "cell_type": "code",
   "execution_count": 57,
   "metadata": {},
   "outputs": [
    {
     "data": {
      "text/plain": [
       "0    Even\n",
       "1     Odd\n",
       "2     Odd\n",
       "3    Even\n",
       "4     Odd\n",
       "Name: Numbers, dtype: object"
      ]
     },
     "execution_count": 57,
     "metadata": {},
     "output_type": "execute_result"
    }
   ],
   "source": [
    "# are the random numbers even or odd\n",
    "even_odd_series = my_numbers_ser.apply(lambda k: 'Even' if (k % 2 == 0) else 'Odd')\n",
    "even_odd_series.head()                                 "
   ]
  },
  {
   "cell_type": "code",
   "execution_count": 58,
   "metadata": {},
   "outputs": [
    {
     "data": {
      "text/plain": [
       "0    Even\n",
       "1     Odd\n",
       "2     Odd\n",
       "3    Even\n",
       "4     Odd\n",
       "Name: Even/Odd, dtype: object"
      ]
     },
     "execution_count": 58,
     "metadata": {},
     "output_type": "execute_result"
    }
   ],
   "source": [
    "# rename the series\n",
    "even_odd_series.rename(\"Even/Odd\", inplace=True)  \n",
    "even_odd_series.head()  "
   ]
  },
  {
   "cell_type": "markdown",
   "metadata": {},
   "source": [
    "## Series to DataFrame "
   ]
  },
  {
   "cell_type": "markdown",
   "metadata": {},
   "source": [
    "* `if` a **Series** is a *table* with a single column, `elif` a **DataFrame** is a *table* with two or more columns."
   ]
  },
  {
   "cell_type": "code",
   "execution_count": 59,
   "metadata": {},
   "outputs": [
    {
     "name": "stdout",
     "output_type": "stream",
     "text": [
      "Numbers\n",
      "Squared Numbers\n"
     ]
    }
   ],
   "source": [
    "# lets convert all the series we created into a dataframe\n",
    "print(my_numbers_ser.name)\n",
    "print(squared_numbers.name)"
   ]
  },
  {
   "cell_type": "code",
   "execution_count": 60,
   "metadata": {},
   "outputs": [
    {
     "data": {
      "text/html": [
       "<div>\n",
       "<style scoped>\n",
       "    .dataframe tbody tr th:only-of-type {\n",
       "        vertical-align: middle;\n",
       "    }\n",
       "\n",
       "    .dataframe tbody tr th {\n",
       "        vertical-align: top;\n",
       "    }\n",
       "\n",
       "    .dataframe thead th {\n",
       "        text-align: right;\n",
       "    }\n",
       "</style>\n",
       "<table border=\"1\" class=\"dataframe\">\n",
       "  <thead>\n",
       "    <tr style=\"text-align: right;\">\n",
       "      <th></th>\n",
       "      <th>Numbers</th>\n",
       "      <th>Double Number</th>\n",
       "      <th>Squared Numbers</th>\n",
       "      <th>BMI</th>\n",
       "      <th>Even/Odd</th>\n",
       "    </tr>\n",
       "  </thead>\n",
       "  <tbody>\n",
       "    <tr>\n",
       "      <th>0</th>\n",
       "      <td>60</td>\n",
       "      <td>120</td>\n",
       "      <td>3600</td>\n",
       "      <td>Overweight</td>\n",
       "      <td>Even</td>\n",
       "    </tr>\n",
       "    <tr>\n",
       "      <th>1</th>\n",
       "      <td>97</td>\n",
       "      <td>194</td>\n",
       "      <td>9409</td>\n",
       "      <td>Overweight</td>\n",
       "      <td>Odd</td>\n",
       "    </tr>\n",
       "    <tr>\n",
       "      <th>2</th>\n",
       "      <td>43</td>\n",
       "      <td>86</td>\n",
       "      <td>1849</td>\n",
       "      <td>Underweight</td>\n",
       "      <td>Odd</td>\n",
       "    </tr>\n",
       "    <tr>\n",
       "      <th>3</th>\n",
       "      <td>90</td>\n",
       "      <td>180</td>\n",
       "      <td>8100</td>\n",
       "      <td>Overweight</td>\n",
       "      <td>Even</td>\n",
       "    </tr>\n",
       "    <tr>\n",
       "      <th>4</th>\n",
       "      <td>71</td>\n",
       "      <td>142</td>\n",
       "      <td>5041</td>\n",
       "      <td>Overweight</td>\n",
       "      <td>Odd</td>\n",
       "    </tr>\n",
       "    <tr>\n",
       "      <th>5</th>\n",
       "      <td>77</td>\n",
       "      <td>154</td>\n",
       "      <td>5929</td>\n",
       "      <td>Overweight</td>\n",
       "      <td>Odd</td>\n",
       "    </tr>\n",
       "    <tr>\n",
       "      <th>6</th>\n",
       "      <td>20</td>\n",
       "      <td>40</td>\n",
       "      <td>400</td>\n",
       "      <td>Underweight</td>\n",
       "      <td>Even</td>\n",
       "    </tr>\n",
       "    <tr>\n",
       "      <th>7</th>\n",
       "      <td>95</td>\n",
       "      <td>190</td>\n",
       "      <td>9025</td>\n",
       "      <td>Overweight</td>\n",
       "      <td>Odd</td>\n",
       "    </tr>\n",
       "    <tr>\n",
       "      <th>8</th>\n",
       "      <td>88</td>\n",
       "      <td>176</td>\n",
       "      <td>7744</td>\n",
       "      <td>Overweight</td>\n",
       "      <td>Even</td>\n",
       "    </tr>\n",
       "  </tbody>\n",
       "</table>\n",
       "</div>"
      ],
      "text/plain": [
       "   Numbers  Double Number  Squared Numbers          BMI Even/Odd\n",
       "0       60            120             3600   Overweight     Even\n",
       "1       97            194             9409   Overweight      Odd\n",
       "2       43             86             1849  Underweight      Odd\n",
       "3       90            180             8100   Overweight     Even\n",
       "4       71            142             5041   Overweight      Odd\n",
       "5       77            154             5929   Overweight      Odd\n",
       "6       20             40              400  Underweight     Even\n",
       "7       95            190             9025   Overweight      Odd\n",
       "8       88            176             7744   Overweight     Even"
      ]
     },
     "execution_count": 60,
     "metadata": {},
     "output_type": "execute_result"
    }
   ],
   "source": [
    "# Creating a DataFrame\n",
    "test_df = pd.DataFrame({\n",
    "    my_numbers_ser.name: my_numbers_ser,\n",
    "    double_number.name: double_number,\n",
    "   squared_numbers.name: squared_numbers,\n",
    "    bmi_series.name: bmi_series,\n",
    "    even_odd_series.name: even_odd_series  \n",
    "})\n",
    "test_df.head(9)"
   ]
  },
  {
   "cell_type": "markdown",
   "metadata": {},
   "source": [
    "## Knock Yourself Out!"
   ]
  },
  {
   "cell_type": "markdown",
   "metadata": {},
   "source": [
    "You work as a real estate agent at *MoringaHome Realty*. To assist your clients in making informed decisions about property investment, you decide to analyze property data using Pandas. \n",
    "1. Generate 120 random numbers between  Ksh 4000 and Ksh 20,000 using numpy to represent the prices of the houses. \n",
    "2. Display the first and last 7 houses.\n",
    "3. Create a function that will take in the price of the house and return the category of that house, eg Suburb. The category is of your own series.\n",
    "4. Apply the function created above to the series.\n",
    "6. Apply a lambda function to increase the property prices by 10% due to the new tax laws.\n",
    "7. Apply a custom function to increase the property prices by and additional Ksh 250 for garbage. \n",
    "8. Create a new Series for each step and Finally Combine them all into a DataFrame name 'Moringa_property'."
   ]
  },
  {
   "cell_type": "markdown",
   "metadata": {},
   "source": []
  },
  {
   "cell_type": "code",
   "execution_count": 2,
   "metadata": {},
   "outputs": [],
   "source": [
    "# importing the necessary packages\n",
    "import numpy as np\n",
    "import pandas as pd"
   ]
  },
  {
   "cell_type": "code",
   "execution_count": 3,
   "metadata": {},
   "outputs": [
    {
     "data": {
      "text/plain": [
       "array([12612, 13479,  4890, 13633,  7366,  7387,  4973, 15614,  7457,\n",
       "       18389, 12303, 15376, 13054, 12880, 10143, 14639,  5425, 15876,\n",
       "       10993, 11302,  7718,  6798, 10429,  5597, 14138,  9552, 12339,\n",
       "       18075, 15839, 11546,  4858,  6901,  5721,  9777,  4936, 16949,\n",
       "        9814, 13349, 13971, 14190,  9593, 16678, 17201, 12907, 15105,\n",
       "        5972,  4588, 14646, 14062, 17637,  9372,  8550, 16908,  5323,\n",
       "        9267, 16297, 16655, 12765, 13193,  9707, 12713, 16831, 16130,\n",
       "       13985, 13276,  5265, 19597,  8432, 15239, 16403, 13961, 10661,\n",
       "       14789, 11523, 15516,  4156,  4253,  4434,  6065, 15122, 15743,\n",
       "        6837,  5318, 12319, 13996,  5594,  7708, 19106,  8380,  7610,\n",
       "        9849,  7930,  6255,  4964,  9106,  6125,  4389, 18525,  8399,\n",
       "       10411, 14061, 14030, 11174, 15138, 10719, 19998, 11787, 14935,\n",
       "       19632,  6860, 12666,  5050, 13006, 17781, 10726, 14187,  6993,\n",
       "       11874, 13430, 14108])"
      ]
     },
     "execution_count": 3,
     "metadata": {},
     "output_type": "execute_result"
    }
   ],
   "source": [
    "# generating 120 random numbers between 4000 and 20000\n",
    "house_prices = np.random.randint(4000, 20000, 120)\n",
    "house_prices"
   ]
  },
  {
   "cell_type": "code",
   "execution_count": 4,
   "metadata": {},
   "outputs": [
    {
     "data": {
      "text/plain": [
       "0    12612\n",
       "1    13479\n",
       "2     4890\n",
       "3    13633\n",
       "4     7366\n",
       "5     7387\n",
       "6     4973\n",
       "dtype: int32"
      ]
     },
     "execution_count": 4,
     "metadata": {},
     "output_type": "execute_result"
    }
   ],
   "source": [
    "# creating a pandas series to display first 7 houses\n",
    "house_prices_series = pd.Series(house_prices)\n",
    "house_prices_series.head(7)"
   ]
  },
  {
   "cell_type": "code",
   "execution_count": 5,
   "metadata": {},
   "outputs": [
    {
     "data": {
      "text/plain": [
       "113    17781\n",
       "114    10726\n",
       "115    14187\n",
       "116     6993\n",
       "117    11874\n",
       "118    13430\n",
       "119    14108\n",
       "dtype: int32"
      ]
     },
     "execution_count": 5,
     "metadata": {},
     "output_type": "execute_result"
    }
   ],
   "source": [
    "# displaying the last 7 houses\n",
    "house_prices_series.tail(7)"
   ]
  },
  {
   "cell_type": "code",
   "execution_count": 6,
   "metadata": {},
   "outputs": [],
   "source": [
    "def house_category(price):\n",
    "    \"\"\"\n",
    "    Function that takes in the price \n",
    "    of the house and returns the category of that house, eg Suburb.\n",
    "    \"\"\"\n",
    "    if price < 5000:\n",
    "        return \"Low Class\"\n",
    "    elif (5000 <= price) and (price < 9000):\n",
    "        return \"Suburb\"\n",
    "    elif (9000 <= price) and (price < 13000):\n",
    "        return \"Mid Class\"\n",
    "    elif (13000 <= price) and (price < 16000):\n",
    "        return \"Urban\"\n",
    "    else:\n",
    "        return \"High Class\""
   ]
  },
  {
   "cell_type": "code",
   "execution_count": 7,
   "metadata": {},
   "outputs": [
    {
     "data": {
      "text/plain": [
       "0    Mid Class\n",
       "1        Urban\n",
       "2    Low Class\n",
       "3        Urban\n",
       "4       Suburb\n",
       "dtype: object"
      ]
     },
     "execution_count": 7,
     "metadata": {},
     "output_type": "execute_result"
    }
   ],
   "source": [
    "# Applying the function created above to the house_prices_series.\n",
    "price_per_category = house_prices_series.apply(house_category)\n",
    "price_per_category.head()"
   ]
  },
  {
   "cell_type": "code",
   "execution_count": 8,
   "metadata": {},
   "outputs": [
    {
     "data": {
      "text/plain": [
       "0    13873.2\n",
       "1    14826.9\n",
       "2     5379.0\n",
       "3    14996.3\n",
       "4     8102.6\n",
       "dtype: float64"
      ]
     },
     "execution_count": 8,
     "metadata": {},
     "output_type": "execute_result"
    }
   ],
   "source": [
    "# Applying a lambda function to increase the property prices by 10%.\n",
    "new_house_prices = house_prices_series.apply(lambda x: x +(x*0.1))\n",
    "new_house_prices.head()"
   ]
  },
  {
   "cell_type": "code",
   "execution_count": 9,
   "metadata": {},
   "outputs": [],
   "source": [
    "def new_hse_price ():\n",
    "    \"\"\"\n",
    "    A fuction to add to the new house prices \n",
    "    garbage fee of 250\n",
    "    \"\"\"\n",
    "    garbage_fee = 250\n",
    "    with_garbage= new_house_prices + garbage_fee\n",
    "\n",
    "    return with_garbage\n"
   ]
  },
  {
   "cell_type": "code",
   "execution_count": 10,
   "metadata": {},
   "outputs": [
    {
     "data": {
      "text/plain": [
       "0    14123.2\n",
       "1    15076.9\n",
       "2     5629.0\n",
       "3    15246.3\n",
       "4     8352.6\n",
       "dtype: float64"
      ]
     },
     "execution_count": 10,
     "metadata": {},
     "output_type": "execute_result"
    }
   ],
   "source": [
    "# calling the above function\n",
    "new_hse_price_garbage = new_hse_price()\n",
    "new_hse_price_garbage.head()"
   ]
  },
  {
   "cell_type": "code",
   "execution_count": 11,
   "metadata": {},
   "outputs": [
    {
     "data": {
      "text/plain": [
       "0    14123.2\n",
       "1    15076.9\n",
       "2     5629.0\n",
       "3    15246.3\n",
       "4     8352.6\n",
       "Name: House prices with tax and garbage, dtype: float64"
      ]
     },
     "execution_count": 11,
     "metadata": {},
     "output_type": "execute_result"
    }
   ],
   "source": [
    "# renaiming my series\n",
    "new_hse_price_garbage.rename(\"House prices with tax and garbage\", inplace=True)\n",
    "new_hse_price_garbage.head()"
   ]
  },
  {
   "cell_type": "code",
   "execution_count": 12,
   "metadata": {},
   "outputs": [
    {
     "data": {
      "text/plain": [
       "0    13873.2\n",
       "1    14826.9\n",
       "2     5379.0\n",
       "3    14996.3\n",
       "4     8102.6\n",
       "Name: House prices with tax , dtype: float64"
      ]
     },
     "execution_count": 12,
     "metadata": {},
     "output_type": "execute_result"
    }
   ],
   "source": [
    "new_house_prices.rename(\"House prices with tax \", inplace=True)\n",
    "new_house_prices.head()"
   ]
  },
  {
   "cell_type": "code",
   "execution_count": 13,
   "metadata": {},
   "outputs": [
    {
     "data": {
      "text/plain": [
       "0    Mid Class\n",
       "1        Urban\n",
       "2    Low Class\n",
       "3        Urban\n",
       "4       Suburb\n",
       "Name: House Categories , dtype: object"
      ]
     },
     "execution_count": 13,
     "metadata": {},
     "output_type": "execute_result"
    }
   ],
   "source": [
    "price_per_category.rename(\"House Categories \", inplace=True)\n",
    "price_per_category.head()"
   ]
  },
  {
   "cell_type": "code",
   "execution_count": 14,
   "metadata": {},
   "outputs": [
    {
     "data": {
      "text/plain": [
       "0    12612\n",
       "1    13479\n",
       "2     4890\n",
       "3    13633\n",
       "4     7366\n",
       "Name: House Prices , dtype: int32"
      ]
     },
     "execution_count": 14,
     "metadata": {},
     "output_type": "execute_result"
    }
   ],
   "source": [
    "house_prices_series.rename(\"House Prices \", inplace=True)\n",
    "house_prices_series.head()"
   ]
  },
  {
   "cell_type": "code",
   "execution_count": 15,
   "metadata": {},
   "outputs": [
    {
     "data": {
      "text/html": [
       "<div>\n",
       "<style scoped>\n",
       "    .dataframe tbody tr th:only-of-type {\n",
       "        vertical-align: middle;\n",
       "    }\n",
       "\n",
       "    .dataframe tbody tr th {\n",
       "        vertical-align: top;\n",
       "    }\n",
       "\n",
       "    .dataframe thead th {\n",
       "        text-align: right;\n",
       "    }\n",
       "</style>\n",
       "<table border=\"1\" class=\"dataframe\">\n",
       "  <thead>\n",
       "    <tr style=\"text-align: right;\">\n",
       "      <th></th>\n",
       "      <th>House Prices</th>\n",
       "      <th>House Categories</th>\n",
       "      <th>House prices with tax</th>\n",
       "      <th>House prices with tax and garbage</th>\n",
       "    </tr>\n",
       "  </thead>\n",
       "  <tbody>\n",
       "    <tr>\n",
       "      <th>0</th>\n",
       "      <td>12612</td>\n",
       "      <td>Mid Class</td>\n",
       "      <td>13873.2</td>\n",
       "      <td>14123.2</td>\n",
       "    </tr>\n",
       "    <tr>\n",
       "      <th>1</th>\n",
       "      <td>13479</td>\n",
       "      <td>Urban</td>\n",
       "      <td>14826.9</td>\n",
       "      <td>15076.9</td>\n",
       "    </tr>\n",
       "    <tr>\n",
       "      <th>2</th>\n",
       "      <td>4890</td>\n",
       "      <td>Low Class</td>\n",
       "      <td>5379.0</td>\n",
       "      <td>5629.0</td>\n",
       "    </tr>\n",
       "    <tr>\n",
       "      <th>3</th>\n",
       "      <td>13633</td>\n",
       "      <td>Urban</td>\n",
       "      <td>14996.3</td>\n",
       "      <td>15246.3</td>\n",
       "    </tr>\n",
       "    <tr>\n",
       "      <th>4</th>\n",
       "      <td>7366</td>\n",
       "      <td>Suburb</td>\n",
       "      <td>8102.6</td>\n",
       "      <td>8352.6</td>\n",
       "    </tr>\n",
       "    <tr>\n",
       "      <th>5</th>\n",
       "      <td>7387</td>\n",
       "      <td>Suburb</td>\n",
       "      <td>8125.7</td>\n",
       "      <td>8375.7</td>\n",
       "    </tr>\n",
       "    <tr>\n",
       "      <th>6</th>\n",
       "      <td>4973</td>\n",
       "      <td>Low Class</td>\n",
       "      <td>5470.3</td>\n",
       "      <td>5720.3</td>\n",
       "    </tr>\n",
       "    <tr>\n",
       "      <th>7</th>\n",
       "      <td>15614</td>\n",
       "      <td>Urban</td>\n",
       "      <td>17175.4</td>\n",
       "      <td>17425.4</td>\n",
       "    </tr>\n",
       "    <tr>\n",
       "      <th>8</th>\n",
       "      <td>7457</td>\n",
       "      <td>Suburb</td>\n",
       "      <td>8202.7</td>\n",
       "      <td>8452.7</td>\n",
       "    </tr>\n",
       "  </tbody>\n",
       "</table>\n",
       "</div>"
      ],
      "text/plain": [
       "   House Prices  House Categories   House prices with tax   \\\n",
       "0          12612         Mid Class                 13873.2   \n",
       "1          13479             Urban                 14826.9   \n",
       "2           4890         Low Class                  5379.0   \n",
       "3          13633             Urban                 14996.3   \n",
       "4           7366            Suburb                  8102.6   \n",
       "5           7387            Suburb                  8125.7   \n",
       "6           4973         Low Class                  5470.3   \n",
       "7          15614             Urban                 17175.4   \n",
       "8           7457            Suburb                  8202.7   \n",
       "\n",
       "   House prices with tax and garbage  \n",
       "0                            14123.2  \n",
       "1                            15076.9  \n",
       "2                             5629.0  \n",
       "3                            15246.3  \n",
       "4                             8352.6  \n",
       "5                             8375.7  \n",
       "6                             5720.3  \n",
       "7                            17425.4  \n",
       "8                             8452.7  "
      ]
     },
     "execution_count": 15,
     "metadata": {},
     "output_type": "execute_result"
    }
   ],
   "source": [
    "# Creating a DataFrame\n",
    "Moringa_property = pd.DataFrame({\n",
    "    house_prices_series.name: house_prices_series,\n",
    "    price_per_category.name: price_per_category,\n",
    "    new_house_prices.name: new_house_prices,\n",
    "    new_hse_price_garbage.name: new_hse_price_garbage\n",
    "    \n",
    "})\n",
    "Moringa_property.head(9)\n"
   ]
  },
  {
   "cell_type": "code",
   "execution_count": null,
   "metadata": {},
   "outputs": [],
   "source": []
  }
 ],
 "metadata": {
  "kernelspec": {
   "display_name": "Python 3",
   "language": "python",
   "name": "python3"
  },
  "language_info": {
   "codemirror_mode": {
    "name": "ipython",
    "version": 3
   },
   "file_extension": ".py",
   "mimetype": "text/x-python",
   "name": "python",
   "nbconvert_exporter": "python",
   "pygments_lexer": "ipython3",
   "version": "3.8.5"
  }
 },
 "nbformat": 4,
 "nbformat_minor": 2
}
